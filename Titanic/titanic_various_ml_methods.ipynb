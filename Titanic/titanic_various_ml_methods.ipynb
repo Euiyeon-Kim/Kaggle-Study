{
 "cells": [
  {
   "cell_type": "code",
   "execution_count": 1,
   "metadata": {},
   "outputs": [],
   "source": [
    "import pandas as pd"
   ]
  },
  {
   "cell_type": "code",
   "execution_count": 2,
   "metadata": {},
   "outputs": [
    {
     "data": {
      "text/plain": [
       "Pclass         0\n",
       "Name           0\n",
       "Sex            0\n",
       "Age          263\n",
       "SibSp          0\n",
       "Parch          0\n",
       "Ticket         0\n",
       "Fare           1\n",
       "Cabin       1014\n",
       "Embarked       2\n",
       "dtype: int64"
      ]
     },
     "execution_count": 2,
     "metadata": {},
     "output_type": "execute_result"
    }
   ],
   "source": [
    "train_df = pd.read_csv(\"datas/train.csv\")\n",
    "test_df = pd.read_csv(\"datas/test.csv\")\n",
    "df = pd.concat((train_df.loc[:, 'Pclass':'Embarked'], test_df.loc[:, 'Pclass':'Embarked']), ignore_index=True)\n",
    "df.isnull().sum()"
   ]
  },
  {
   "cell_type": "markdown",
   "metadata": {},
   "source": [
    "# Fill missing values"
   ]
  },
  {
   "cell_type": "code",
   "execution_count": 3,
   "metadata": {},
   "outputs": [],
   "source": [
    "df['Age'].fillna(df['Age'].median(), inplace=True)"
   ]
  },
  {
   "cell_type": "code",
   "execution_count": 4,
   "metadata": {},
   "outputs": [
    {
     "data": {
      "text/plain": [
       "S      914\n",
       "C      270\n",
       "Q      123\n",
       "NaN      2\n",
       "Name: Embarked, dtype: int64"
      ]
     },
     "execution_count": 4,
     "metadata": {},
     "output_type": "execute_result"
    }
   ],
   "source": [
    "df['Embarked'].value_counts(dropna=False)"
   ]
  },
  {
   "cell_type": "code",
   "execution_count": 5,
   "metadata": {},
   "outputs": [],
   "source": [
    "df['Embarked'].fillna('S', inplace=True)"
   ]
  },
  {
   "cell_type": "code",
   "execution_count": 6,
   "metadata": {},
   "outputs": [],
   "source": [
    "df['Fare'].fillna(df['Fare'].median(), inplace=True)"
   ]
  },
  {
   "cell_type": "markdown",
   "metadata": {},
   "source": [
    "# Add features"
   ]
  },
  {
   "cell_type": "code",
   "execution_count": 7,
   "metadata": {},
   "outputs": [],
   "source": [
    "def fare_categorized(x):\n",
    "    if x <= 7.9:\n",
    "        return 0\n",
    "    elif 7.9 < x <= 14.45:\n",
    "        return 1\n",
    "    elif 14.45 < x <= 31.28:\n",
    "        return 2\n",
    "    else:\n",
    "        return 3\n",
    "df['Fare_cat'] = df['Fare']\n",
    "df['Fare_cat'] = df['Fare_cat'].map(fare_categorized)"
   ]
  },
  {
   "cell_type": "code",
   "execution_count": 8,
   "metadata": {},
   "outputs": [],
   "source": [
    "import re\n",
    "df['Cabin'].fillna('U', inplace=True)\n",
    "df['Cabin'] = df['Cabin'].map(lambda x: re.compile(\"[a-zA-Z]+\").search(x).group(0))"
   ]
  },
  {
   "cell_type": "code",
   "execution_count": 9,
   "metadata": {},
   "outputs": [],
   "source": [
    "def age_five(x):\n",
    "    t = (x // 10) \n",
    "    o = 1 if (x % 10) >=5 else 0\n",
    "    return t * 2 + o\n",
    "def age_decade(x):\n",
    "    return x // 10\n",
    "df['Age_decade'] = df['Age']\n",
    "df['Age_decade'] = df['Age_decade'].map(age_decade)\n",
    "df['Age_five'] = df['Age']\n",
    "df['Age_five'] = df['Age_decade'].map(age_five)"
   ]
  },
  {
   "cell_type": "code",
   "execution_count": 10,
   "metadata": {},
   "outputs": [],
   "source": [
    "df.drop('Ticket', axis=1, inplace=True)\n",
    "df.drop('Name', axis=1, inplace=True)"
   ]
  },
  {
   "cell_type": "code",
   "execution_count": 11,
   "metadata": {},
   "outputs": [],
   "source": [
    "df['Sex'] = df['Sex'].map({'female': 0, 'male': 1})"
   ]
  },
  {
   "cell_type": "code",
   "execution_count": 12,
   "metadata": {},
   "outputs": [
    {
     "data": {
      "text/plain": [
       "U    1014\n",
       "C      94\n",
       "B      65\n",
       "D      46\n",
       "E      41\n",
       "A      22\n",
       "F      21\n",
       "G       5\n",
       "T       1\n",
       "Name: Cabin, dtype: int64"
      ]
     },
     "execution_count": 12,
     "metadata": {},
     "output_type": "execute_result"
    }
   ],
   "source": [
    "df['Cabin'].value_counts(dropna=False)"
   ]
  },
  {
   "cell_type": "code",
   "execution_count": 13,
   "metadata": {},
   "outputs": [],
   "source": [
    "df['Cabin'] = df['Cabin'].map({'U': 0, 'A':1, 'B': 2, 'C':3, 'D':4, 'E':5, 'F':6, 'G':7, 'T':8})"
   ]
  },
  {
   "cell_type": "code",
   "execution_count": 14,
   "metadata": {},
   "outputs": [
    {
     "data": {
      "text/plain": [
       "S    916\n",
       "C    270\n",
       "Q    123\n",
       "Name: Embarked, dtype: int64"
      ]
     },
     "execution_count": 14,
     "metadata": {},
     "output_type": "execute_result"
    }
   ],
   "source": [
    "df['Embarked'].value_counts()"
   ]
  },
  {
   "cell_type": "code",
   "execution_count": 15,
   "metadata": {},
   "outputs": [],
   "source": [
    "df['Embarked'] = df['Embarked'].map({'C': 0, 'S': 1, 'Q': 2})"
   ]
  },
  {
   "cell_type": "markdown",
   "metadata": {},
   "source": [
    "# Training"
   ]
  },
  {
   "cell_type": "code",
   "execution_count": 16,
   "metadata": {},
   "outputs": [],
   "source": [
    "X_train = df[:train_df.shape[0]]\n",
    "y_train = train_df['Survived']\n",
    "X_test = df[train_df.shape[0]:]"
   ]
  },
  {
   "cell_type": "code",
   "execution_count": 17,
   "metadata": {},
   "outputs": [],
   "source": [
    "from sklearn.model_selection import train_test_split\n",
    "x_train, x_valid, y_train, y_valid = train_test_split(X_train, y_train, test_size=0.1, stratify=y_train, random_state=1234)"
   ]
  },
  {
   "cell_type": "code",
   "execution_count": 18,
   "metadata": {},
   "outputs": [],
   "source": [
    "from sklearn import metrics\n",
    "def print_metrics(pred, gt):\n",
    "    print('Accuracy :{0:0.5f}'.format(metrics.accuracy_score(gt, pred))) \n",
    "    print('AUC : {0:0.5f}'.format(metrics.roc_auc_score(gt, pred)))\n",
    "    print('Precision : {0:0.5f}'.format(metrics.precision_score(gt, pred)))\n",
    "    print('Recall : {0:0.5f}'.format(metrics.recall_score(gt, pred)))\n",
    "    print('F1 : {0:0.5f}'.format(metrics.f1_score(gt, pred)))\n",
    "    \n",
    "def save_submission(pred, name):\n",
    "    save = pd.DataFrame({\"PassengerId\": test_df['PassengerId'],\n",
    "                   \"Survived\": pred.astype(int)})\n",
    "    save.to_csv(f\"outputs/submission_{name}.csv\", index=False)"
   ]
  },
  {
   "cell_type": "code",
   "execution_count": 19,
   "metadata": {},
   "outputs": [
    {
     "name": "stdout",
     "output_type": "stream",
     "text": [
      "Accuracy :0.84444\n",
      "AUC : 0.83117\n",
      "Precision : 0.81818\n",
      "Recall : 0.77143\n",
      "F1 : 0.79412\n"
     ]
    }
   ],
   "source": [
    "from sklearn.tree import DecisionTreeClassifier\n",
    "dt = DecisionTreeClassifier(max_depth=12, random_state=1234)\n",
    "dt.fit(x_train,y_train)\n",
    "dt_valid_pred = dt.predict(x_valid)\n",
    "print_metrics(dt_valid_pred, y_valid) "
   ]
  },
  {
   "cell_type": "code",
   "execution_count": 20,
   "metadata": {},
   "outputs": [],
   "source": [
    "dt_pred = dt.predict(X_test)\n",
    "save_submission(dt_pred, 'dt')"
   ]
  },
  {
   "cell_type": "code",
   "execution_count": 21,
   "metadata": {},
   "outputs": [
    {
     "name": "stdout",
     "output_type": "stream",
     "text": [
      "Accuracy :0.86667\n",
      "AUC : 0.84935\n",
      "Precision : 0.87097\n",
      "Recall : 0.77143\n",
      "F1 : 0.81818\n"
     ]
    }
   ],
   "source": [
    "from sklearn.ensemble import RandomForestClassifier\n",
    "rf = RandomForestClassifier(n_estimators=50,\n",
    "                            max_depth=5,\n",
    "                            max_samples=0.9,\n",
    "                            random_state=1234)\n",
    "rf.fit(x_train, y_train)\n",
    "rf_val_pred = rf.predict(x_valid)\n",
    "print_metrics(rf_val_pred, y_valid)"
   ]
  },
  {
   "cell_type": "code",
   "execution_count": 22,
   "metadata": {},
   "outputs": [],
   "source": [
    "rf_pred = rf.predict(X_test)\n",
    "save_submission(rf_pred, 'rf')"
   ]
  },
  {
   "cell_type": "code",
   "execution_count": 23,
   "metadata": {},
   "outputs": [
    {
     "name": "stdout",
     "output_type": "stream",
     "text": [
      "Accuracy :0.86667\n",
      "AUC : 0.84416\n",
      "Precision : 0.89655\n",
      "Recall : 0.74286\n",
      "F1 : 0.81250\n"
     ]
    }
   ],
   "source": [
    "from sklearn.ensemble import GradientBoostingClassifier\n",
    "gbc = GradientBoostingClassifier(n_estimators=5000,\n",
    "                                 subsample=0.67,\n",
    "                                 learning_rate=0.02,\n",
    "                                 max_depth=4,\n",
    "                                 validation_fraction=0.05,\n",
    "                                 n_iter_no_change=10,\n",
    "                                 verbose=0,\n",
    "                                 random_state=1234)\n",
    "gbc.fit(x_train, y_train)\n",
    "gbc_val_pred = gbc.predict(x_valid)\n",
    "print_metrics(gbc_val_pred, y_valid)"
   ]
  },
  {
   "cell_type": "code",
   "execution_count": 24,
   "metadata": {},
   "outputs": [],
   "source": [
    "gbc_pred = gbc.predict(X_test)\n",
    "save_submission(gbc_pred, 'gbc')"
   ]
  },
  {
   "cell_type": "code",
   "execution_count": 26,
   "metadata": {},
   "outputs": [
    {
     "name": "stdout",
     "output_type": "stream",
     "text": [
      "Accuracy :0.85556\n",
      "AUC : 0.84026\n",
      "Precision : 0.84375\n",
      "Recall : 0.77143\n",
      "F1 : 0.80597\n"
     ]
    },
    {
     "name": "stderr",
     "output_type": "stream",
     "text": [
      "/opt/homebrew/Caskroom/miniforge/base/envs/research/lib/python3.9/site-packages/sklearn/svm/_base.py:1206: ConvergenceWarning: Liblinear failed to converge, increase the number of iterations.\n",
      "  warnings.warn(\n"
     ]
    }
   ],
   "source": [
    "from sklearn.svm import LinearSVC\n",
    "svc = LinearSVC(loss='hinge',\n",
    "                tol=1e-4, \n",
    "                C=0.5,\n",
    "                max_iter=500000,\n",
    "                random_state=1234)\n",
    "svc.fit(x_train, y_train)\n",
    "svc_val_pred = svc.predict(x_valid)\n",
    "print_metrics(svc_val_pred, y_valid)"
   ]
  },
  {
   "cell_type": "code",
   "execution_count": 27,
   "metadata": {},
   "outputs": [],
   "source": [
    "svc_pred = svc.predict(X_test)\n",
    "save_submission(svc_pred, 'svc')"
   ]
  },
  {
   "cell_type": "code",
   "execution_count": null,
   "metadata": {},
   "outputs": [],
   "source": []
  }
 ],
 "metadata": {
  "kernelspec": {
   "display_name": "Python 3 (ipykernel)",
   "language": "python",
   "name": "python3"
  },
  "language_info": {
   "codemirror_mode": {
    "name": "ipython",
    "version": 3
   },
   "file_extension": ".py",
   "mimetype": "text/x-python",
   "name": "python",
   "nbconvert_exporter": "python",
   "pygments_lexer": "ipython3",
   "version": "3.9.0"
  }
 },
 "nbformat": 4,
 "nbformat_minor": 1
}