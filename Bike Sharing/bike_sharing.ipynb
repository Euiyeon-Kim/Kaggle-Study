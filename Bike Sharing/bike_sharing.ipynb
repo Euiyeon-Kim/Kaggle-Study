{
 "cells": [
  {
   "cell_type": "code",
   "execution_count": 1,
   "metadata": {},
   "outputs": [],
   "source": [
    "import numpy as np\n",
    "import pandas as pd"
   ]
  },
  {
   "cell_type": "code",
   "execution_count": 2,
   "metadata": {},
   "outputs": [],
   "source": [
    "train_df = pd.read_csv('datas/train.csv')\n",
    "test_df = pd.read_csv('datas/test.csv')"
   ]
  },
  {
   "cell_type": "code",
   "execution_count": 3,
   "metadata": {},
   "outputs": [
    {
     "data": {
      "text/plain": [
       "(datetime      0\n",
       " season        0\n",
       " holiday       0\n",
       " workingday    0\n",
       " weather       0\n",
       " temp          0\n",
       " atemp         0\n",
       " humidity      0\n",
       " windspeed     0\n",
       " casual        0\n",
       " registered    0\n",
       " count         0\n",
       " dtype: int64,\n",
       " datetime      0\n",
       " season        0\n",
       " holiday       0\n",
       " workingday    0\n",
       " weather       0\n",
       " temp          0\n",
       " atemp         0\n",
       " humidity      0\n",
       " windspeed     0\n",
       " dtype: int64)"
      ]
     },
     "execution_count": 3,
     "metadata": {},
     "output_type": "execute_result"
    }
   ],
   "source": [
    "train_df.isnull().sum(), test_df.isnull().sum()"
   ]
  },
  {
   "cell_type": "code",
   "execution_count": 4,
   "metadata": {},
   "outputs": [
    {
     "data": {
      "text/html": [
       "<style type=\"text/css\">\n",
       "#T_6e1f9_row0_col0, #T_6e1f9_row1_col1, #T_6e1f9_row2_col2, #T_6e1f9_row3_col3, #T_6e1f9_row4_col4, #T_6e1f9_row5_col5, #T_6e1f9_row6_col6, #T_6e1f9_row7_col7, #T_6e1f9_row8_col8, #T_6e1f9_row9_col9, #T_6e1f9_row10_col10 {\n",
       "  background-color: #b40426;\n",
       "  color: #f1f1f1;\n",
       "}\n",
       "#T_6e1f9_row0_col1, #T_6e1f9_row5_col6 {\n",
       "  background-color: #84a7fc;\n",
       "  color: #f1f1f1;\n",
       "}\n",
       "#T_6e1f9_row0_col2, #T_6e1f9_row1_col10, #T_6e1f9_row8_col1 {\n",
       "  background-color: #88abfd;\n",
       "  color: #000000;\n",
       "}\n",
       "#T_6e1f9_row0_col3, #T_6e1f9_row7_col3 {\n",
       "  background-color: #6282ea;\n",
       "  color: #f1f1f1;\n",
       "}\n",
       "#T_6e1f9_row0_col4, #T_6e1f9_row2_col9 {\n",
       "  background-color: #9fbfff;\n",
       "  color: #000000;\n",
       "}\n",
       "#T_6e1f9_row0_col5 {\n",
       "  background-color: #a1c0ff;\n",
       "  color: #000000;\n",
       "}\n",
       "#T_6e1f9_row0_col6 {\n",
       "  background-color: #c0d4f5;\n",
       "  color: #000000;\n",
       "}\n",
       "#T_6e1f9_row0_col7 {\n",
       "  background-color: #6384eb;\n",
       "  color: #f1f1f1;\n",
       "}\n",
       "#T_6e1f9_row0_col8 {\n",
       "  background-color: #a9c6fd;\n",
       "  color: #000000;\n",
       "}\n",
       "#T_6e1f9_row0_col9 {\n",
       "  background-color: #abc8fd;\n",
       "  color: #000000;\n",
       "}\n",
       "#T_6e1f9_row0_col10 {\n",
       "  background-color: #b5cdfa;\n",
       "  color: #000000;\n",
       "}\n",
       "#T_6e1f9_row1_col0 {\n",
       "  background-color: #6b8df0;\n",
       "  color: #f1f1f1;\n",
       "}\n",
       "#T_6e1f9_row1_col2 {\n",
       "  background-color: #4a63d3;\n",
       "  color: #f1f1f1;\n",
       "}\n",
       "#T_6e1f9_row1_col3 {\n",
       "  background-color: #5e7de7;\n",
       "  color: #f1f1f1;\n",
       "}\n",
       "#T_6e1f9_row1_col4, #T_6e1f9_row9_col6 {\n",
       "  background-color: #4c66d6;\n",
       "  color: #f1f1f1;\n",
       "}\n",
       "#T_6e1f9_row1_col5 {\n",
       "  background-color: #4961d2;\n",
       "  color: #f1f1f1;\n",
       "}\n",
       "#T_6e1f9_row1_col6, #T_6e1f9_row5_col2 {\n",
       "  background-color: #90b2fe;\n",
       "  color: #000000;\n",
       "}\n",
       "#T_6e1f9_row1_col7, #T_6e1f9_row2_col10, #T_6e1f9_row3_col7 {\n",
       "  background-color: #8caffe;\n",
       "  color: #000000;\n",
       "}\n",
       "#T_6e1f9_row1_col8 {\n",
       "  background-color: #9bbcff;\n",
       "  color: #000000;\n",
       "}\n",
       "#T_6e1f9_row1_col9, #T_6e1f9_row3_col1 {\n",
       "  background-color: #799cf8;\n",
       "  color: #f1f1f1;\n",
       "}\n",
       "#T_6e1f9_row2_col0, #T_6e1f9_row3_col9 {\n",
       "  background-color: #6180e9;\n",
       "  color: #f1f1f1;\n",
       "}\n",
       "#T_6e1f9_row2_col1, #T_6e1f9_row3_col5, #T_6e1f9_row6_col4, #T_6e1f9_row6_col7, #T_6e1f9_row6_col8, #T_6e1f9_row6_col9, #T_6e1f9_row6_col10, #T_6e1f9_row7_col0, #T_6e1f9_row7_col5, #T_6e1f9_row8_col2, #T_6e1f9_row8_col3, #T_6e1f9_row8_col6 {\n",
       "  background-color: #3b4cc0;\n",
       "  color: #f1f1f1;\n",
       "}\n",
       "#T_6e1f9_row2_col3 {\n",
       "  background-color: #6a8bef;\n",
       "  color: #f1f1f1;\n",
       "}\n",
       "#T_6e1f9_row2_col4 {\n",
       "  background-color: #5572df;\n",
       "  color: #f1f1f1;\n",
       "}\n",
       "#T_6e1f9_row2_col5 {\n",
       "  background-color: #516ddb;\n",
       "  color: #f1f1f1;\n",
       "}\n",
       "#T_6e1f9_row2_col6, #T_6e1f9_row2_col7, #T_6e1f9_row7_col2, #T_6e1f9_row10_col2 {\n",
       "  background-color: #8db0fe;\n",
       "  color: #000000;\n",
       "}\n",
       "#T_6e1f9_row2_col8, #T_6e1f9_row7_col6, #T_6e1f9_row9_col3, #T_6e1f9_row10_col6 {\n",
       "  background-color: #4055c8;\n",
       "  color: #f1f1f1;\n",
       "}\n",
       "#T_6e1f9_row3_col0 {\n",
       "  background-color: #6485ec;\n",
       "  color: #f1f1f1;\n",
       "}\n",
       "#T_6e1f9_row3_col2 {\n",
       "  background-color: #93b5fe;\n",
       "  color: #000000;\n",
       "}\n",
       "#T_6e1f9_row3_col4 {\n",
       "  background-color: #3d50c3;\n",
       "  color: #f1f1f1;\n",
       "}\n",
       "#T_6e1f9_row3_col6 {\n",
       "  background-color: #ebd3c6;\n",
       "  color: #000000;\n",
       "}\n",
       "#T_6e1f9_row3_col8 {\n",
       "  background-color: #6c8ff1;\n",
       "  color: #f1f1f1;\n",
       "}\n",
       "#T_6e1f9_row3_col10 {\n",
       "  background-color: #6788ee;\n",
       "  color: #f1f1f1;\n",
       "}\n",
       "#T_6e1f9_row4_col0, #T_6e1f9_row9_col5 {\n",
       "  background-color: #b1cbfc;\n",
       "  color: #000000;\n",
       "}\n",
       "#T_6e1f9_row4_col1, #T_6e1f9_row6_col1 {\n",
       "  background-color: #7b9ff9;\n",
       "  color: #f1f1f1;\n",
       "}\n",
       "#T_6e1f9_row4_col2 {\n",
       "  background-color: #92b4fe;\n",
       "  color: #000000;\n",
       "}\n",
       "#T_6e1f9_row4_col3, #T_6e1f9_row5_col3 {\n",
       "  background-color: #506bda;\n",
       "  color: #f1f1f1;\n",
       "}\n",
       "#T_6e1f9_row4_col5, #T_6e1f9_row5_col4 {\n",
       "  background-color: #b8122a;\n",
       "  color: #f1f1f1;\n",
       "}\n",
       "#T_6e1f9_row4_col6, #T_6e1f9_row7_col1 {\n",
       "  background-color: #7ea1fa;\n",
       "  color: #f1f1f1;\n",
       "}\n",
       "#T_6e1f9_row4_col7 {\n",
       "  background-color: #85a8fc;\n",
       "  color: #f1f1f1;\n",
       "}\n",
       "#T_6e1f9_row4_col8, #T_6e1f9_row8_col9 {\n",
       "  background-color: #f2cab5;\n",
       "  color: #000000;\n",
       "}\n",
       "#T_6e1f9_row4_col9 {\n",
       "  background-color: #d3dbe7;\n",
       "  color: #000000;\n",
       "}\n",
       "#T_6e1f9_row4_col10 {\n",
       "  background-color: #e7d7ce;\n",
       "  color: #000000;\n",
       "}\n",
       "#T_6e1f9_row5_col0 {\n",
       "  background-color: #b2ccfb;\n",
       "  color: #000000;\n",
       "}\n",
       "#T_6e1f9_row5_col1, #T_6e1f9_row5_col7, #T_6e1f9_row10_col1 {\n",
       "  background-color: #7a9df8;\n",
       "  color: #f1f1f1;\n",
       "}\n",
       "#T_6e1f9_row5_col8 {\n",
       "  background-color: #f2cbb7;\n",
       "  color: #000000;\n",
       "}\n",
       "#T_6e1f9_row5_col9 {\n",
       "  background-color: #d2dbe8;\n",
       "  color: #000000;\n",
       "}\n",
       "#T_6e1f9_row5_col10 {\n",
       "  background-color: #e6d7cf;\n",
       "  color: #000000;\n",
       "}\n",
       "#T_6e1f9_row6_col0 {\n",
       "  background-color: #9dbdff;\n",
       "  color: #000000;\n",
       "}\n",
       "#T_6e1f9_row6_col2 {\n",
       "  background-color: #86a9fc;\n",
       "  color: #f1f1f1;\n",
       "}\n",
       "#T_6e1f9_row6_col3 {\n",
       "  background-color: #d7dce3;\n",
       "  color: #000000;\n",
       "}\n",
       "#T_6e1f9_row6_col5 {\n",
       "  background-color: #3e51c5;\n",
       "  color: #f1f1f1;\n",
       "}\n",
       "#T_6e1f9_row7_col4 {\n",
       "  background-color: #485fd1;\n",
       "  color: #f1f1f1;\n",
       "}\n",
       "#T_6e1f9_row7_col8 {\n",
       "  background-color: #a7c5fe;\n",
       "  color: #000000;\n",
       "}\n",
       "#T_6e1f9_row7_col9 {\n",
       "  background-color: #98b9ff;\n",
       "  color: #000000;\n",
       "}\n",
       "#T_6e1f9_row7_col10, #T_6e1f9_row10_col7 {\n",
       "  background-color: #a5c3fe;\n",
       "  color: #000000;\n",
       "}\n",
       "#T_6e1f9_row8_col0 {\n",
       "  background-color: #80a3fa;\n",
       "  color: #f1f1f1;\n",
       "}\n",
       "#T_6e1f9_row8_col4 {\n",
       "  background-color: #dcdddd;\n",
       "  color: #000000;\n",
       "}\n",
       "#T_6e1f9_row8_col5 {\n",
       "  background-color: #dadce0;\n",
       "  color: #000000;\n",
       "}\n",
       "#T_6e1f9_row8_col7, #T_6e1f9_row9_col7 {\n",
       "  background-color: #a2c1ff;\n",
       "  color: #000000;\n",
       "}\n",
       "#T_6e1f9_row8_col10 {\n",
       "  background-color: #f39475;\n",
       "  color: #000000;\n",
       "}\n",
       "#T_6e1f9_row9_col0, #T_6e1f9_row10_col0 {\n",
       "  background-color: #94b6ff;\n",
       "  color: #000000;\n",
       "}\n",
       "#T_6e1f9_row9_col1 {\n",
       "  background-color: #7597f6;\n",
       "  color: #f1f1f1;\n",
       "}\n",
       "#T_6e1f9_row9_col2 {\n",
       "  background-color: #aac7fd;\n",
       "  color: #000000;\n",
       "}\n",
       "#T_6e1f9_row9_col4 {\n",
       "  background-color: #b3cdfb;\n",
       "  color: #000000;\n",
       "}\n",
       "#T_6e1f9_row9_col8 {\n",
       "  background-color: #f5c4ac;\n",
       "  color: #000000;\n",
       "}\n",
       "#T_6e1f9_row9_col10, #T_6e1f9_row10_col9 {\n",
       "  background-color: #bb1b2c;\n",
       "  color: #f1f1f1;\n",
       "}\n",
       "#T_6e1f9_row10_col3 {\n",
       "  background-color: #3c4ec2;\n",
       "  color: #f1f1f1;\n",
       "}\n",
       "#T_6e1f9_row10_col4 {\n",
       "  background-color: #cad8ef;\n",
       "  color: #000000;\n",
       "}\n",
       "#T_6e1f9_row10_col5 {\n",
       "  background-color: #c7d7f0;\n",
       "  color: #000000;\n",
       "}\n",
       "#T_6e1f9_row10_col8 {\n",
       "  background-color: #f29072;\n",
       "  color: #f1f1f1;\n",
       "}\n",
       "</style>\n",
       "<table id=\"T_6e1f9\">\n",
       "  <thead>\n",
       "    <tr>\n",
       "      <th class=\"blank level0\" >&nbsp;</th>\n",
       "      <th id=\"T_6e1f9_level0_col0\" class=\"col_heading level0 col0\" >season</th>\n",
       "      <th id=\"T_6e1f9_level0_col1\" class=\"col_heading level0 col1\" >holiday</th>\n",
       "      <th id=\"T_6e1f9_level0_col2\" class=\"col_heading level0 col2\" >workingday</th>\n",
       "      <th id=\"T_6e1f9_level0_col3\" class=\"col_heading level0 col3\" >weather</th>\n",
       "      <th id=\"T_6e1f9_level0_col4\" class=\"col_heading level0 col4\" >temp</th>\n",
       "      <th id=\"T_6e1f9_level0_col5\" class=\"col_heading level0 col5\" >atemp</th>\n",
       "      <th id=\"T_6e1f9_level0_col6\" class=\"col_heading level0 col6\" >humidity</th>\n",
       "      <th id=\"T_6e1f9_level0_col7\" class=\"col_heading level0 col7\" >windspeed</th>\n",
       "      <th id=\"T_6e1f9_level0_col8\" class=\"col_heading level0 col8\" >casual</th>\n",
       "      <th id=\"T_6e1f9_level0_col9\" class=\"col_heading level0 col9\" >registered</th>\n",
       "      <th id=\"T_6e1f9_level0_col10\" class=\"col_heading level0 col10\" >count</th>\n",
       "    </tr>\n",
       "  </thead>\n",
       "  <tbody>\n",
       "    <tr>\n",
       "      <th id=\"T_6e1f9_level0_row0\" class=\"row_heading level0 row0\" >season</th>\n",
       "      <td id=\"T_6e1f9_row0_col0\" class=\"data row0 col0\" >1.00</td>\n",
       "      <td id=\"T_6e1f9_row0_col1\" class=\"data row0 col1\" >0.03</td>\n",
       "      <td id=\"T_6e1f9_row0_col2\" class=\"data row0 col2\" >-0.01</td>\n",
       "      <td id=\"T_6e1f9_row0_col3\" class=\"data row0 col3\" >0.01</td>\n",
       "      <td id=\"T_6e1f9_row0_col4\" class=\"data row0 col4\" >0.26</td>\n",
       "      <td id=\"T_6e1f9_row0_col5\" class=\"data row0 col5\" >0.26</td>\n",
       "      <td id=\"T_6e1f9_row0_col6\" class=\"data row0 col6\" >0.19</td>\n",
       "      <td id=\"T_6e1f9_row0_col7\" class=\"data row0 col7\" >-0.15</td>\n",
       "      <td id=\"T_6e1f9_row0_col8\" class=\"data row0 col8\" >0.10</td>\n",
       "      <td id=\"T_6e1f9_row0_col9\" class=\"data row0 col9\" >0.16</td>\n",
       "      <td id=\"T_6e1f9_row0_col10\" class=\"data row0 col10\" >0.16</td>\n",
       "    </tr>\n",
       "    <tr>\n",
       "      <th id=\"T_6e1f9_level0_row1\" class=\"row_heading level0 row1\" >holiday</th>\n",
       "      <td id=\"T_6e1f9_row1_col0\" class=\"data row1 col0\" >0.03</td>\n",
       "      <td id=\"T_6e1f9_row1_col1\" class=\"data row1 col1\" >1.00</td>\n",
       "      <td id=\"T_6e1f9_row1_col2\" class=\"data row1 col2\" >-0.25</td>\n",
       "      <td id=\"T_6e1f9_row1_col3\" class=\"data row1 col3\" >-0.01</td>\n",
       "      <td id=\"T_6e1f9_row1_col4\" class=\"data row1 col4\" >0.00</td>\n",
       "      <td id=\"T_6e1f9_row1_col5\" class=\"data row1 col5\" >-0.01</td>\n",
       "      <td id=\"T_6e1f9_row1_col6\" class=\"data row1 col6\" >0.00</td>\n",
       "      <td id=\"T_6e1f9_row1_col7\" class=\"data row1 col7\" >0.01</td>\n",
       "      <td id=\"T_6e1f9_row1_col8\" class=\"data row1 col8\" >0.04</td>\n",
       "      <td id=\"T_6e1f9_row1_col9\" class=\"data row1 col9\" >-0.02</td>\n",
       "      <td id=\"T_6e1f9_row1_col10\" class=\"data row1 col10\" >-0.01</td>\n",
       "    </tr>\n",
       "    <tr>\n",
       "      <th id=\"T_6e1f9_level0_row2\" class=\"row_heading level0 row2\" >workingday</th>\n",
       "      <td id=\"T_6e1f9_row2_col0\" class=\"data row2 col0\" >-0.01</td>\n",
       "      <td id=\"T_6e1f9_row2_col1\" class=\"data row2 col1\" >-0.25</td>\n",
       "      <td id=\"T_6e1f9_row2_col2\" class=\"data row2 col2\" >1.00</td>\n",
       "      <td id=\"T_6e1f9_row2_col3\" class=\"data row2 col3\" >0.03</td>\n",
       "      <td id=\"T_6e1f9_row2_col4\" class=\"data row2 col4\" >0.03</td>\n",
       "      <td id=\"T_6e1f9_row2_col5\" class=\"data row2 col5\" >0.02</td>\n",
       "      <td id=\"T_6e1f9_row2_col6\" class=\"data row2 col6\" >-0.01</td>\n",
       "      <td id=\"T_6e1f9_row2_col7\" class=\"data row2 col7\" >0.01</td>\n",
       "      <td id=\"T_6e1f9_row2_col8\" class=\"data row2 col8\" >-0.32</td>\n",
       "      <td id=\"T_6e1f9_row2_col9\" class=\"data row2 col9\" >0.12</td>\n",
       "      <td id=\"T_6e1f9_row2_col10\" class=\"data row2 col10\" >0.01</td>\n",
       "    </tr>\n",
       "    <tr>\n",
       "      <th id=\"T_6e1f9_level0_row3\" class=\"row_heading level0 row3\" >weather</th>\n",
       "      <td id=\"T_6e1f9_row3_col0\" class=\"data row3 col0\" >0.01</td>\n",
       "      <td id=\"T_6e1f9_row3_col1\" class=\"data row3 col1\" >-0.01</td>\n",
       "      <td id=\"T_6e1f9_row3_col2\" class=\"data row3 col2\" >0.03</td>\n",
       "      <td id=\"T_6e1f9_row3_col3\" class=\"data row3 col3\" >1.00</td>\n",
       "      <td id=\"T_6e1f9_row3_col4\" class=\"data row3 col4\" >-0.06</td>\n",
       "      <td id=\"T_6e1f9_row3_col5\" class=\"data row3 col5\" >-0.06</td>\n",
       "      <td id=\"T_6e1f9_row3_col6\" class=\"data row3 col6\" >0.41</td>\n",
       "      <td id=\"T_6e1f9_row3_col7\" class=\"data row3 col7\" >0.01</td>\n",
       "      <td id=\"T_6e1f9_row3_col8\" class=\"data row3 col8\" >-0.14</td>\n",
       "      <td id=\"T_6e1f9_row3_col9\" class=\"data row3 col9\" >-0.11</td>\n",
       "      <td id=\"T_6e1f9_row3_col10\" class=\"data row3 col10\" >-0.13</td>\n",
       "    </tr>\n",
       "    <tr>\n",
       "      <th id=\"T_6e1f9_level0_row4\" class=\"row_heading level0 row4\" >temp</th>\n",
       "      <td id=\"T_6e1f9_row4_col0\" class=\"data row4 col0\" >0.26</td>\n",
       "      <td id=\"T_6e1f9_row4_col1\" class=\"data row4 col1\" >0.00</td>\n",
       "      <td id=\"T_6e1f9_row4_col2\" class=\"data row4 col2\" >0.03</td>\n",
       "      <td id=\"T_6e1f9_row4_col3\" class=\"data row4 col3\" >-0.06</td>\n",
       "      <td id=\"T_6e1f9_row4_col4\" class=\"data row4 col4\" >1.00</td>\n",
       "      <td id=\"T_6e1f9_row4_col5\" class=\"data row4 col5\" >0.98</td>\n",
       "      <td id=\"T_6e1f9_row4_col6\" class=\"data row4 col6\" >-0.06</td>\n",
       "      <td id=\"T_6e1f9_row4_col7\" class=\"data row4 col7\" >-0.02</td>\n",
       "      <td id=\"T_6e1f9_row4_col8\" class=\"data row4 col8\" >0.47</td>\n",
       "      <td id=\"T_6e1f9_row4_col9\" class=\"data row4 col9\" >0.32</td>\n",
       "      <td id=\"T_6e1f9_row4_col10\" class=\"data row4 col10\" >0.39</td>\n",
       "    </tr>\n",
       "    <tr>\n",
       "      <th id=\"T_6e1f9_level0_row5\" class=\"row_heading level0 row5\" >atemp</th>\n",
       "      <td id=\"T_6e1f9_row5_col0\" class=\"data row5 col0\" >0.26</td>\n",
       "      <td id=\"T_6e1f9_row5_col1\" class=\"data row5 col1\" >-0.01</td>\n",
       "      <td id=\"T_6e1f9_row5_col2\" class=\"data row5 col2\" >0.02</td>\n",
       "      <td id=\"T_6e1f9_row5_col3\" class=\"data row5 col3\" >-0.06</td>\n",
       "      <td id=\"T_6e1f9_row5_col4\" class=\"data row5 col4\" >0.98</td>\n",
       "      <td id=\"T_6e1f9_row5_col5\" class=\"data row5 col5\" >1.00</td>\n",
       "      <td id=\"T_6e1f9_row5_col6\" class=\"data row5 col6\" >-0.04</td>\n",
       "      <td id=\"T_6e1f9_row5_col7\" class=\"data row5 col7\" >-0.06</td>\n",
       "      <td id=\"T_6e1f9_row5_col8\" class=\"data row5 col8\" >0.46</td>\n",
       "      <td id=\"T_6e1f9_row5_col9\" class=\"data row5 col9\" >0.31</td>\n",
       "      <td id=\"T_6e1f9_row5_col10\" class=\"data row5 col10\" >0.39</td>\n",
       "    </tr>\n",
       "    <tr>\n",
       "      <th id=\"T_6e1f9_level0_row6\" class=\"row_heading level0 row6\" >humidity</th>\n",
       "      <td id=\"T_6e1f9_row6_col0\" class=\"data row6 col0\" >0.19</td>\n",
       "      <td id=\"T_6e1f9_row6_col1\" class=\"data row6 col1\" >0.00</td>\n",
       "      <td id=\"T_6e1f9_row6_col2\" class=\"data row6 col2\" >-0.01</td>\n",
       "      <td id=\"T_6e1f9_row6_col3\" class=\"data row6 col3\" >0.41</td>\n",
       "      <td id=\"T_6e1f9_row6_col4\" class=\"data row6 col4\" >-0.06</td>\n",
       "      <td id=\"T_6e1f9_row6_col5\" class=\"data row6 col5\" >-0.04</td>\n",
       "      <td id=\"T_6e1f9_row6_col6\" class=\"data row6 col6\" >1.00</td>\n",
       "      <td id=\"T_6e1f9_row6_col7\" class=\"data row6 col7\" >-0.32</td>\n",
       "      <td id=\"T_6e1f9_row6_col8\" class=\"data row6 col8\" >-0.35</td>\n",
       "      <td id=\"T_6e1f9_row6_col9\" class=\"data row6 col9\" >-0.27</td>\n",
       "      <td id=\"T_6e1f9_row6_col10\" class=\"data row6 col10\" >-0.32</td>\n",
       "    </tr>\n",
       "    <tr>\n",
       "      <th id=\"T_6e1f9_level0_row7\" class=\"row_heading level0 row7\" >windspeed</th>\n",
       "      <td id=\"T_6e1f9_row7_col0\" class=\"data row7 col0\" >-0.15</td>\n",
       "      <td id=\"T_6e1f9_row7_col1\" class=\"data row7 col1\" >0.01</td>\n",
       "      <td id=\"T_6e1f9_row7_col2\" class=\"data row7 col2\" >0.01</td>\n",
       "      <td id=\"T_6e1f9_row7_col3\" class=\"data row7 col3\" >0.01</td>\n",
       "      <td id=\"T_6e1f9_row7_col4\" class=\"data row7 col4\" >-0.02</td>\n",
       "      <td id=\"T_6e1f9_row7_col5\" class=\"data row7 col5\" >-0.06</td>\n",
       "      <td id=\"T_6e1f9_row7_col6\" class=\"data row7 col6\" >-0.32</td>\n",
       "      <td id=\"T_6e1f9_row7_col7\" class=\"data row7 col7\" >1.00</td>\n",
       "      <td id=\"T_6e1f9_row7_col8\" class=\"data row7 col8\" >0.09</td>\n",
       "      <td id=\"T_6e1f9_row7_col9\" class=\"data row7 col9\" >0.09</td>\n",
       "      <td id=\"T_6e1f9_row7_col10\" class=\"data row7 col10\" >0.10</td>\n",
       "    </tr>\n",
       "    <tr>\n",
       "      <th id=\"T_6e1f9_level0_row8\" class=\"row_heading level0 row8\" >casual</th>\n",
       "      <td id=\"T_6e1f9_row8_col0\" class=\"data row8 col0\" >0.10</td>\n",
       "      <td id=\"T_6e1f9_row8_col1\" class=\"data row8 col1\" >0.04</td>\n",
       "      <td id=\"T_6e1f9_row8_col2\" class=\"data row8 col2\" >-0.32</td>\n",
       "      <td id=\"T_6e1f9_row8_col3\" class=\"data row8 col3\" >-0.14</td>\n",
       "      <td id=\"T_6e1f9_row8_col4\" class=\"data row8 col4\" >0.47</td>\n",
       "      <td id=\"T_6e1f9_row8_col5\" class=\"data row8 col5\" >0.46</td>\n",
       "      <td id=\"T_6e1f9_row8_col6\" class=\"data row8 col6\" >-0.35</td>\n",
       "      <td id=\"T_6e1f9_row8_col7\" class=\"data row8 col7\" >0.09</td>\n",
       "      <td id=\"T_6e1f9_row8_col8\" class=\"data row8 col8\" >1.00</td>\n",
       "      <td id=\"T_6e1f9_row8_col9\" class=\"data row8 col9\" >0.50</td>\n",
       "      <td id=\"T_6e1f9_row8_col10\" class=\"data row8 col10\" >0.69</td>\n",
       "    </tr>\n",
       "    <tr>\n",
       "      <th id=\"T_6e1f9_level0_row9\" class=\"row_heading level0 row9\" >registered</th>\n",
       "      <td id=\"T_6e1f9_row9_col0\" class=\"data row9 col0\" >0.16</td>\n",
       "      <td id=\"T_6e1f9_row9_col1\" class=\"data row9 col1\" >-0.02</td>\n",
       "      <td id=\"T_6e1f9_row9_col2\" class=\"data row9 col2\" >0.12</td>\n",
       "      <td id=\"T_6e1f9_row9_col3\" class=\"data row9 col3\" >-0.11</td>\n",
       "      <td id=\"T_6e1f9_row9_col4\" class=\"data row9 col4\" >0.32</td>\n",
       "      <td id=\"T_6e1f9_row9_col5\" class=\"data row9 col5\" >0.31</td>\n",
       "      <td id=\"T_6e1f9_row9_col6\" class=\"data row9 col6\" >-0.27</td>\n",
       "      <td id=\"T_6e1f9_row9_col7\" class=\"data row9 col7\" >0.09</td>\n",
       "      <td id=\"T_6e1f9_row9_col8\" class=\"data row9 col8\" >0.50</td>\n",
       "      <td id=\"T_6e1f9_row9_col9\" class=\"data row9 col9\" >1.00</td>\n",
       "      <td id=\"T_6e1f9_row9_col10\" class=\"data row9 col10\" >0.97</td>\n",
       "    </tr>\n",
       "    <tr>\n",
       "      <th id=\"T_6e1f9_level0_row10\" class=\"row_heading level0 row10\" >count</th>\n",
       "      <td id=\"T_6e1f9_row10_col0\" class=\"data row10 col0\" >0.16</td>\n",
       "      <td id=\"T_6e1f9_row10_col1\" class=\"data row10 col1\" >-0.01</td>\n",
       "      <td id=\"T_6e1f9_row10_col2\" class=\"data row10 col2\" >0.01</td>\n",
       "      <td id=\"T_6e1f9_row10_col3\" class=\"data row10 col3\" >-0.13</td>\n",
       "      <td id=\"T_6e1f9_row10_col4\" class=\"data row10 col4\" >0.39</td>\n",
       "      <td id=\"T_6e1f9_row10_col5\" class=\"data row10 col5\" >0.39</td>\n",
       "      <td id=\"T_6e1f9_row10_col6\" class=\"data row10 col6\" >-0.32</td>\n",
       "      <td id=\"T_6e1f9_row10_col7\" class=\"data row10 col7\" >0.10</td>\n",
       "      <td id=\"T_6e1f9_row10_col8\" class=\"data row10 col8\" >0.69</td>\n",
       "      <td id=\"T_6e1f9_row10_col9\" class=\"data row10 col9\" >0.97</td>\n",
       "      <td id=\"T_6e1f9_row10_col10\" class=\"data row10 col10\" >1.00</td>\n",
       "    </tr>\n",
       "  </tbody>\n",
       "</table>\n"
      ],
      "text/plain": [
       "<pandas.io.formats.style.Styler at 0x103a8cfd0>"
      ]
     },
     "execution_count": 4,
     "metadata": {},
     "output_type": "execute_result"
    }
   ],
   "source": [
    "train_df.corr().style.background_gradient(cmap='coolwarm').format(precision=2)"
   ]
  },
  {
   "cell_type": "code",
   "execution_count": 5,
   "metadata": {},
   "outputs": [
    {
     "data": {
      "text/plain": [
       "<AxesSubplot:xlabel='humidity', ylabel='count'>"
      ]
     },
     "execution_count": 5,
     "metadata": {},
     "output_type": "execute_result"
    },
    {
     "data": {
      "image/png": "[encoded data removed]",
      "text/plain": [
       "<Figure size 432x288 with 1 Axes>"
      ]
     },
     "metadata": {
      "needs_background": "light"
     },
     "output_type": "display_data"
    }
   ],
   "source": [
    "train_df.plot.scatter(x='humidity', y='count')"
   ]
  },
  {
   "cell_type": "code",
   "execution_count": 6,
   "metadata": {},
   "outputs": [
    {
     "data": {
      "text/plain": [
       "<AxesSubplot:xlabel='humidity'>"
      ]
     },
     "execution_count": 6,
     "metadata": {},
     "output_type": "execute_result"
    },
    {
     "data": {
      "image/png": "[encoded data removed]",
      "text/plain": [
       "<Figure size 432x288 with 1 Axes>"
      ]
     },
     "metadata": {
      "needs_background": "light"
     },
     "output_type": "display_data"
    }
   ],
   "source": [
    "train_df.groupby('humidity')['count'].mean().plot.bar()"
   ]
  },
  {
   "cell_type": "code",
   "execution_count": 7,
   "metadata": {},
   "outputs": [
    {
     "data": {
      "text/plain": [
       "<AxesSubplot:xlabel='season'>"
      ]
     },
     "execution_count": 7,
     "metadata": {},
     "output_type": "execute_result"
    },
    {
     "data": {
      "image/png": "[encoded data removed]",
      "text/plain": [
       "<Figure size 432x288 with 1 Axes>"
      ]
     },
     "metadata": {
      "needs_background": "light"
     },
     "output_type": "display_data"
    }
   ],
   "source": [
    "train_df.groupby('season')['count'].mean().plot.bar()"
   ]
  },
  {
   "cell_type": "code",
   "execution_count": 8,
   "metadata": {},
   "outputs": [
    {
     "data": {
      "text/plain": [
       "<AxesSubplot:ylabel='Density'>"
      ]
     },
     "execution_count": 8,
     "metadata": {},
     "output_type": "execute_result"
    },
    {
     "data": {
      "image/png": "[encoded data removed]",
      "text/plain": [
       "<Figure size 432x288 with 1 Axes>"
      ]
     },
     "metadata": {
      "needs_background": "light"
     },
     "output_type": "display_data"
    }
   ],
   "source": [
    "train_df['count'].plot.kde()"
   ]
  },
  {
   "cell_type": "code",
   "execution_count": 9,
   "metadata": {},
   "outputs": [
    {
     "data": {
      "text/plain": [
       "<AxesSubplot:ylabel='Density'>"
      ]
     },
     "execution_count": 9,
     "metadata": {},
     "output_type": "execute_result"
    },
    {
     "data": {
      "image/png": "[encoded data removed]",
      "text/plain": [
       "<Figure size 432x288 with 1 Axes>"
      ]
     },
     "metadata": {
      "needs_background": "light"
     },
     "output_type": "display_data"
    }
   ],
   "source": [
    "np.log(train_df['count'] + 1).plot.kde()"
   ]
  },
  {
   "cell_type": "code",
   "execution_count": 10,
   "metadata": {},
   "outputs": [
    {
     "name": "stdout",
     "output_type": "stream",
     "text": [
      "<class 'pandas.core.frame.DataFrame'>\n",
      "RangeIndex: 10886 entries, 0 to 10885\n",
      "Data columns (total 12 columns):\n",
      " #   Column      Non-Null Count  Dtype  \n",
      "---  ------      --------------  -----  \n",
      " 0   datetime    10886 non-null  object \n",
      " 1   season      10886 non-null  int64  \n",
      " 2   holiday     10886 non-null  int64  \n",
      " 3   workingday  10886 non-null  int64  \n",
      " 4   weather     10886 non-null  int64  \n",
      " 5   temp        10886 non-null  float64\n",
      " 6   atemp       10886 non-null  float64\n",
      " 7   humidity    10886 non-null  int64  \n",
      " 8   windspeed   10886 non-null  float64\n",
      " 9   casual      10886 non-null  int64  \n",
      " 10  registered  10886 non-null  int64  \n",
      " 11  count       10886 non-null  int64  \n",
      "dtypes: float64(3), int64(8), object(1)\n",
      "memory usage: 1020.7+ KB\n"
     ]
    }
   ],
   "source": [
    "train_df.info()"
   ]
  },
  {
   "cell_type": "code",
   "execution_count": 11,
   "metadata": {},
   "outputs": [
    {
     "data": {
      "text/plain": [
       "<AxesSubplot:xlabel='holiday'>"
      ]
     },
     "execution_count": 11,
     "metadata": {},
     "output_type": "execute_result"
    },
    {
     "data": {
      "image/png": "[encoded data removed]",
      "text/plain": [
       "<Figure size 432x288 with 1 Axes>"
      ]
     },
     "metadata": {
      "needs_background": "light"
     },
     "output_type": "display_data"
    }
   ],
   "source": [
    "train_df.groupby('holiday')['count'].mean().plot.bar()"
   ]
  },
  {
   "cell_type": "code",
   "execution_count": 12,
   "metadata": {},
   "outputs": [
    {
     "data": {
      "text/plain": [
       "<AxesSubplot:xlabel='workingday'>"
      ]
     },
     "execution_count": 12,
     "metadata": {},
     "output_type": "execute_result"
    },
    {
     "data": {
      "image/png": "[encoded data removed]",
      "text/plain": [
       "<Figure size 432x288 with 1 Axes>"
      ]
     },
     "metadata": {
      "needs_background": "light"
     },
     "output_type": "display_data"
    }
   ],
   "source": [
    "train_df.groupby('workingday')['count'].mean().plot.bar()"
   ]
  },
  {
   "cell_type": "code",
   "execution_count": 13,
   "metadata": {},
   "outputs": [
    {
     "data": {
      "text/plain": [
       "<AxesSubplot:xlabel='weather'>"
      ]
     },
     "execution_count": 13,
     "metadata": {},
     "output_type": "execute_result"
    },
    {
     "data": {
      "image/png": "[encoded data removed]",
      "text/plain": [
       "<Figure size 432x288 with 1 Axes>"
      ]
     },
     "metadata": {
      "needs_background": "light"
     },
     "output_type": "display_data"
    }
   ],
   "source": [
    "train_df.groupby('weather')['count'].mean().plot.bar()"
   ]
  },
  {
   "cell_type": "code",
   "execution_count": 14,
   "metadata": {},
   "outputs": [
    {
     "data": {
      "text/plain": [
       "<AxesSubplot:xlabel='temp'>"
      ]
     },
     "execution_count": 14,
     "metadata": {},
     "output_type": "execute_result"
    },
    {
     "data": {
      "image/png": "[encoded data removed]",
      "text/plain": [
       "<Figure size 432x288 with 1 Axes>"
      ]
     },
     "metadata": {
      "needs_background": "light"
     },
     "output_type": "display_data"
    }
   ],
   "source": [
    "train_df.groupby(\"temp\")['count'].mean().plot.bar()"
   ]
  },
  {
   "cell_type": "code",
   "execution_count": 15,
   "metadata": {},
   "outputs": [
    {
     "data": {
      "text/plain": [
       "<AxesSubplot:xlabel='atemp'>"
      ]
     },
     "execution_count": 15,
     "metadata": {},
     "output_type": "execute_result"
    },
    {
     "data": {
      "image/png": "[encoded data removed]",
      "text/plain": [
       "<Figure size 432x288 with 1 Axes>"
      ]
     },
     "metadata": {
      "needs_background": "light"
     },
     "output_type": "display_data"
    }
   ],
   "source": [
    "train_df.groupby(\"atemp\")['count'].mean().plot.bar()"
   ]
  },
  {
   "cell_type": "code",
   "execution_count": 16,
   "metadata": {},
   "outputs": [
    {
     "data": {
      "text/plain": [
       "<AxesSubplot:xlabel='humidity'>"
      ]
     },
     "execution_count": 16,
     "metadata": {},
     "output_type": "execute_result"
    },
    {
     "data": {
      "image/png": "[encoded data removed]",
      "text/plain": [
       "<Figure size 432x288 with 1 Axes>"
      ]
     },
     "metadata": {
      "needs_background": "light"
     },
     "output_type": "display_data"
    }
   ],
   "source": [
    "train_df.groupby(\"humidity\")['count'].mean().plot.bar()"
   ]
  },
  {
   "cell_type": "code",
   "execution_count": 17,
   "metadata": {},
   "outputs": [
    {
     "data": {
      "text/plain": [
       "<AxesSubplot:xlabel='windspeed'>"
      ]
     },
     "execution_count": 17,
     "metadata": {},
     "output_type": "execute_result"
    },
    {
     "data": {
      "image/png": "[encoded data removed]",
      "text/plain": [
       "<Figure size 432x288 with 1 Axes>"
      ]
     },
     "metadata": {
      "needs_background": "light"
     },
     "output_type": "display_data"
    }
   ],
   "source": [
    "train_df.groupby(\"windspeed\")['count'].mean().plot.bar()"
   ]
  },
  {
   "cell_type": "code",
   "execution_count": 18,
   "metadata": {},
   "outputs": [],
   "source": [
    "df = pd.concat((train_df.drop(['casual', 'registered', 'count'], axis=1), test_df), axis=0, ignore_index=True)"
   ]
  },
  {
   "cell_type": "markdown",
   "metadata": {},
   "source": [
    "# Processing Data"
   ]
  },
  {
   "cell_type": "code",
   "execution_count": 19,
   "metadata": {},
   "outputs": [],
   "source": [
    "df['datetime'] = pd.to_datetime(df['datetime'])\n",
    "df['year'] = df['datetime'].dt.year\n",
    "df['month'] = df['datetime'].dt.month\n",
    "df['day'] = df['datetime'].dt.day\n",
    "df['hour'] = df['datetime'].dt.hour\n",
    "df = df.drop(['datetime'], axis=1)"
   ]
  },
  {
   "cell_type": "code",
   "execution_count": 20,
   "metadata": {},
   "outputs": [],
   "source": [
    "# df = df.drop(['temp'], axis=1)"
   ]
  },
  {
   "cell_type": "code",
   "execution_count": 21,
   "metadata": {},
   "outputs": [
    {
     "data": {
      "text/html": [
       "<style type=\"text/css\">\n",
       "#T_a83da_row0_col0, #T_a83da_row1_col1, #T_a83da_row2_col2, #T_a83da_row3_col3, #T_a83da_row4_col4, #T_a83da_row5_col5, #T_a83da_row6_col6, #T_a83da_row7_col7, #T_a83da_row8_col8, #T_a83da_row9_col9, #T_a83da_row10_col10, #T_a83da_row11_col11, #T_a83da_row12_col12 {\n",
       "  background-color: #b40426;\n",
       "  color: #f1f1f1;\n",
       "}\n",
       "#T_a83da_row0_col1, #T_a83da_row4_col2 {\n",
       "  background-color: #84a7fc;\n",
       "  color: #f1f1f1;\n",
       "}\n",
       "#T_a83da_row0_col2, #T_a83da_row3_col1, #T_a83da_row4_col6, #T_a83da_row6_col2 {\n",
       "  background-color: #799cf8;\n",
       "  color: #f1f1f1;\n",
       "}\n",
       "#T_a83da_row0_col3, #T_a83da_row2_col0, #T_a83da_row8_col0, #T_a83da_row9_col3, #T_a83da_row11_col0, #T_a83da_row11_col9 {\n",
       "  background-color: #6180e9;\n",
       "  color: #f1f1f1;\n",
       "}\n",
       "#T_a83da_row0_col4, #T_a83da_row9_col4, #T_a83da_row9_col5 {\n",
       "  background-color: #9fbfff;\n",
       "  color: #000000;\n",
       "}\n",
       "#T_a83da_row0_col5, #T_a83da_row6_col9 {\n",
       "  background-color: #a1c0ff;\n",
       "  color: #000000;\n",
       "}\n",
       "#T_a83da_row0_col6 {\n",
       "  background-color: #bbd1f8;\n",
       "  color: #000000;\n",
       "}\n",
       "#T_a83da_row0_col7, #T_a83da_row1_col9, #T_a83da_row4_col8, #T_a83da_row10_col0, #T_a83da_row10_col9 {\n",
       "  background-color: #6384eb;\n",
       "  color: #f1f1f1;\n",
       "}\n",
       "#T_a83da_row0_col8, #T_a83da_row9_col8, #T_a83da_row11_col8 {\n",
       "  background-color: #4f69d9;\n",
       "  color: #f1f1f1;\n",
       "}\n",
       "#T_a83da_row0_col9, #T_a83da_row9_col0 {\n",
       "  background-color: #bd1f2d;\n",
       "  color: #f1f1f1;\n",
       "}\n",
       "#T_a83da_row0_col10, #T_a83da_row8_col10, #T_a83da_row9_col10, #T_a83da_row11_col10 {\n",
       "  background-color: #3f53c6;\n",
       "  color: #f1f1f1;\n",
       "}\n",
       "#T_a83da_row0_col11, #T_a83da_row7_col2, #T_a83da_row8_col11, #T_a83da_row9_col11 {\n",
       "  background-color: #80a3fa;\n",
       "  color: #f1f1f1;\n",
       "}\n",
       "#T_a83da_row0_col12 {\n",
       "  background-color: #b5cdfa;\n",
       "  color: #000000;\n",
       "}\n",
       "#T_a83da_row1_col0 {\n",
       "  background-color: #6b8df0;\n",
       "  color: #f1f1f1;\n",
       "}\n",
       "#T_a83da_row1_col2, #T_a83da_row1_col10, #T_a83da_row2_col1, #T_a83da_row3_col5, #T_a83da_row6_col4, #T_a83da_row6_col7, #T_a83da_row6_col8, #T_a83da_row6_col11, #T_a83da_row6_col12, #T_a83da_row7_col0, #T_a83da_row7_col5, #T_a83da_row7_col6, #T_a83da_row7_col9, #T_a83da_row12_col3, #T_a83da_row12_col6 {\n",
       "  background-color: #3b4cc0;\n",
       "  color: #f1f1f1;\n",
       "}\n",
       "#T_a83da_row1_col3, #T_a83da_row10_col3 {\n",
       "  background-color: #5b7ae5;\n",
       "  color: #f1f1f1;\n",
       "}\n",
       "#T_a83da_row1_col4, #T_a83da_row3_col8, #T_a83da_row7_col8 {\n",
       "  background-color: #4c66d6;\n",
       "  color: #f1f1f1;\n",
       "}\n",
       "#T_a83da_row1_col5 {\n",
       "  background-color: #4961d2;\n",
       "  color: #f1f1f1;\n",
       "}\n",
       "#T_a83da_row1_col6 {\n",
       "  background-color: #8badfd;\n",
       "  color: #000000;\n",
       "}\n",
       "#T_a83da_row1_col7, #T_a83da_row2_col12, #T_a83da_row3_col7 {\n",
       "  background-color: #8caffe;\n",
       "  color: #000000;\n",
       "}\n",
       "#T_a83da_row1_col8 {\n",
       "  background-color: #5470de;\n",
       "  color: #f1f1f1;\n",
       "}\n",
       "#T_a83da_row1_col11, #T_a83da_row10_col11 {\n",
       "  background-color: #81a4fb;\n",
       "  color: #f1f1f1;\n",
       "}\n",
       "#T_a83da_row1_col12 {\n",
       "  background-color: #88abfd;\n",
       "  color: #000000;\n",
       "}\n",
       "#T_a83da_row2_col3, #T_a83da_row3_col9, #T_a83da_row3_col12 {\n",
       "  background-color: #6788ee;\n",
       "  color: #f1f1f1;\n",
       "}\n",
       "#T_a83da_row2_col4 {\n",
       "  background-color: #5572df;\n",
       "  color: #f1f1f1;\n",
       "}\n",
       "#T_a83da_row2_col5, #T_a83da_row10_col4, #T_a83da_row10_col8 {\n",
       "  background-color: #516ddb;\n",
       "  color: #f1f1f1;\n",
       "}\n",
       "#T_a83da_row2_col6, #T_a83da_row10_col6 {\n",
       "  background-color: #86a9fc;\n",
       "  color: #f1f1f1;\n",
       "}\n",
       "#T_a83da_row2_col7 {\n",
       "  background-color: #8db0fe;\n",
       "  color: #000000;\n",
       "}\n",
       "#T_a83da_row2_col8 {\n",
       "  background-color: #506bda;\n",
       "  color: #f1f1f1;\n",
       "}\n",
       "#T_a83da_row2_col9, #T_a83da_row5_col8, #T_a83da_row8_col9, #T_a83da_row9_col7 {\n",
       "  background-color: #6282ea;\n",
       "  color: #f1f1f1;\n",
       "}\n",
       "#T_a83da_row2_col10, #T_a83da_row5_col10 {\n",
       "  background-color: #4257c9;\n",
       "  color: #f1f1f1;\n",
       "}\n",
       "#T_a83da_row2_col11, #T_a83da_row5_col2 {\n",
       "  background-color: #82a6fb;\n",
       "  color: #f1f1f1;\n",
       "}\n",
       "#T_a83da_row3_col0 {\n",
       "  background-color: #6485ec;\n",
       "  color: #f1f1f1;\n",
       "}\n",
       "#T_a83da_row3_col2, #T_a83da_row4_col7, #T_a83da_row8_col7 {\n",
       "  background-color: #85a8fc;\n",
       "  color: #f1f1f1;\n",
       "}\n",
       "#T_a83da_row3_col4, #T_a83da_row3_col10 {\n",
       "  background-color: #3d50c3;\n",
       "  color: #f1f1f1;\n",
       "}\n",
       "#T_a83da_row3_col6 {\n",
       "  background-color: #e9d5cb;\n",
       "  color: #000000;\n",
       "}\n",
       "#T_a83da_row3_col11, #T_a83da_row4_col1, #T_a83da_row6_col1, #T_a83da_row9_col1, #T_a83da_row11_col1, #T_a83da_row11_col2 {\n",
       "  background-color: #7b9ff9;\n",
       "  color: #f1f1f1;\n",
       "}\n",
       "#T_a83da_row4_col0, #T_a83da_row4_col9, #T_a83da_row11_col7 {\n",
       "  background-color: #b1cbfc;\n",
       "  color: #000000;\n",
       "}\n",
       "#T_a83da_row4_col3, #T_a83da_row5_col3, #T_a83da_row10_col5 {\n",
       "  background-color: #4e68d8;\n",
       "  color: #f1f1f1;\n",
       "}\n",
       "#T_a83da_row4_col5, #T_a83da_row5_col4 {\n",
       "  background-color: #b8122a;\n",
       "  color: #f1f1f1;\n",
       "}\n",
       "#T_a83da_row4_col10, #T_a83da_row11_col6 {\n",
       "  background-color: #4358cb;\n",
       "  color: #f1f1f1;\n",
       "}\n",
       "#T_a83da_row4_col11 {\n",
       "  background-color: #a9c6fd;\n",
       "  color: #000000;\n",
       "}\n",
       "#T_a83da_row4_col12 {\n",
       "  background-color: #e7d7ce;\n",
       "  color: #000000;\n",
       "}\n",
       "#T_a83da_row5_col0 {\n",
       "  background-color: #b2ccfb;\n",
       "  color: #000000;\n",
       "}\n",
       "#T_a83da_row5_col1, #T_a83da_row5_col7, #T_a83da_row8_col2, #T_a83da_row9_col2, #T_a83da_row11_col4, #T_a83da_row12_col1 {\n",
       "  background-color: #7a9df8;\n",
       "  color: #f1f1f1;\n",
       "}\n",
       "#T_a83da_row5_col6, #T_a83da_row7_col1, #T_a83da_row8_col1, #T_a83da_row10_col2, #T_a83da_row12_col2 {\n",
       "  background-color: #7ea1fa;\n",
       "  color: #f1f1f1;\n",
       "}\n",
       "#T_a83da_row5_col9 {\n",
       "  background-color: #b3cdfb;\n",
       "  color: #000000;\n",
       "}\n",
       "#T_a83da_row5_col11 {\n",
       "  background-color: #a7c5fe;\n",
       "  color: #000000;\n",
       "}\n",
       "#T_a83da_row5_col12 {\n",
       "  background-color: #e6d7cf;\n",
       "  color: #000000;\n",
       "}\n",
       "#T_a83da_row6_col0 {\n",
       "  background-color: #9dbdff;\n",
       "  color: #000000;\n",
       "}\n",
       "#T_a83da_row6_col3 {\n",
       "  background-color: #d6dce4;\n",
       "  color: #000000;\n",
       "}\n",
       "#T_a83da_row6_col5 {\n",
       "  background-color: #3e51c5;\n",
       "  color: #f1f1f1;\n",
       "}\n",
       "#T_a83da_row6_col10 {\n",
       "  background-color: #3c4ec2;\n",
       "  color: #f1f1f1;\n",
       "}\n",
       "#T_a83da_row7_col3, #T_a83da_row8_col4 {\n",
       "  background-color: #5f7fe8;\n",
       "  color: #f1f1f1;\n",
       "}\n",
       "#T_a83da_row7_col4 {\n",
       "  background-color: #485fd1;\n",
       "  color: #f1f1f1;\n",
       "}\n",
       "#T_a83da_row7_col10 {\n",
       "  background-color: #4a63d3;\n",
       "  color: #f1f1f1;\n",
       "}\n",
       "#T_a83da_row7_col11 {\n",
       "  background-color: #aac7fd;\n",
       "  color: #000000;\n",
       "}\n",
       "#T_a83da_row7_col12, #T_a83da_row12_col7 {\n",
       "  background-color: #a5c3fe;\n",
       "  color: #000000;\n",
       "}\n",
       "#T_a83da_row8_col3 {\n",
       "  background-color: #5a78e4;\n",
       "  color: #f1f1f1;\n",
       "}\n",
       "#T_a83da_row8_col5 {\n",
       "  background-color: #5d7ce6;\n",
       "  color: #f1f1f1;\n",
       "}\n",
       "#T_a83da_row8_col6 {\n",
       "  background-color: #7597f6;\n",
       "  color: #f1f1f1;\n",
       "}\n",
       "#T_a83da_row8_col12 {\n",
       "  background-color: #ccd9ed;\n",
       "  color: #000000;\n",
       "}\n",
       "#T_a83da_row9_col6 {\n",
       "  background-color: #bfd3f6;\n",
       "  color: #000000;\n",
       "}\n",
       "#T_a83da_row9_col12 {\n",
       "  background-color: #b6cefa;\n",
       "  color: #000000;\n",
       "}\n",
       "#T_a83da_row10_col1 {\n",
       "  background-color: #779af7;\n",
       "  color: #f1f1f1;\n",
       "}\n",
       "#T_a83da_row10_col7 {\n",
       "  background-color: #93b5fe;\n",
       "  color: #000000;\n",
       "}\n",
       "#T_a83da_row10_col12 {\n",
       "  background-color: #8fb1fe;\n",
       "  color: #000000;\n",
       "}\n",
       "#T_a83da_row11_col3 {\n",
       "  background-color: #5875e1;\n",
       "  color: #f1f1f1;\n",
       "}\n",
       "#T_a83da_row11_col5 {\n",
       "  background-color: #7699f6;\n",
       "  color: #f1f1f1;\n",
       "}\n",
       "#T_a83da_row11_col12 {\n",
       "  background-color: #e8d6cc;\n",
       "  color: #000000;\n",
       "}\n",
       "#T_a83da_row12_col0 {\n",
       "  background-color: #94b6ff;\n",
       "  color: #000000;\n",
       "}\n",
       "#T_a83da_row12_col4 {\n",
       "  background-color: #cad8ef;\n",
       "  color: #000000;\n",
       "}\n",
       "#T_a83da_row12_col5 {\n",
       "  background-color: #c7d7f0;\n",
       "  color: #000000;\n",
       "}\n",
       "#T_a83da_row12_col8 {\n",
       "  background-color: #a3c2fe;\n",
       "  color: #000000;\n",
       "}\n",
       "#T_a83da_row12_col9 {\n",
       "  background-color: #96b7ff;\n",
       "  color: #000000;\n",
       "}\n",
       "#T_a83da_row12_col10 {\n",
       "  background-color: #445acc;\n",
       "  color: #f1f1f1;\n",
       "}\n",
       "#T_a83da_row12_col11 {\n",
       "  background-color: #e4d9d2;\n",
       "  color: #000000;\n",
       "}\n",
       "</style>\n",
       "<table id=\"T_a83da\">\n",
       "  <thead>\n",
       "    <tr>\n",
       "      <th class=\"blank level0\" >&nbsp;</th>\n",
       "      <th id=\"T_a83da_level0_col0\" class=\"col_heading level0 col0\" >season</th>\n",
       "      <th id=\"T_a83da_level0_col1\" class=\"col_heading level0 col1\" >holiday</th>\n",
       "      <th id=\"T_a83da_level0_col2\" class=\"col_heading level0 col2\" >workingday</th>\n",
       "      <th id=\"T_a83da_level0_col3\" class=\"col_heading level0 col3\" >weather</th>\n",
       "      <th id=\"T_a83da_level0_col4\" class=\"col_heading level0 col4\" >temp</th>\n",
       "      <th id=\"T_a83da_level0_col5\" class=\"col_heading level0 col5\" >atemp</th>\n",
       "      <th id=\"T_a83da_level0_col6\" class=\"col_heading level0 col6\" >humidity</th>\n",
       "      <th id=\"T_a83da_level0_col7\" class=\"col_heading level0 col7\" >windspeed</th>\n",
       "      <th id=\"T_a83da_level0_col8\" class=\"col_heading level0 col8\" >year</th>\n",
       "      <th id=\"T_a83da_level0_col9\" class=\"col_heading level0 col9\" >month</th>\n",
       "      <th id=\"T_a83da_level0_col10\" class=\"col_heading level0 col10\" >day</th>\n",
       "      <th id=\"T_a83da_level0_col11\" class=\"col_heading level0 col11\" >hour</th>\n",
       "      <th id=\"T_a83da_level0_col12\" class=\"col_heading level0 col12\" >count</th>\n",
       "    </tr>\n",
       "  </thead>\n",
       "  <tbody>\n",
       "    <tr>\n",
       "      <th id=\"T_a83da_level0_row0\" class=\"row_heading level0 row0\" >season</th>\n",
       "      <td id=\"T_a83da_row0_col0\" class=\"data row0 col0\" >1.00</td>\n",
       "      <td id=\"T_a83da_row0_col1\" class=\"data row0 col1\" >0.03</td>\n",
       "      <td id=\"T_a83da_row0_col2\" class=\"data row0 col2\" >-0.01</td>\n",
       "      <td id=\"T_a83da_row0_col3\" class=\"data row0 col3\" >0.01</td>\n",
       "      <td id=\"T_a83da_row0_col4\" class=\"data row0 col4\" >0.26</td>\n",
       "      <td id=\"T_a83da_row0_col5\" class=\"data row0 col5\" >0.26</td>\n",
       "      <td id=\"T_a83da_row0_col6\" class=\"data row0 col6\" >0.19</td>\n",
       "      <td id=\"T_a83da_row0_col7\" class=\"data row0 col7\" >-0.15</td>\n",
       "      <td id=\"T_a83da_row0_col8\" class=\"data row0 col8\" >-0.00</td>\n",
       "      <td id=\"T_a83da_row0_col9\" class=\"data row0 col9\" >0.97</td>\n",
       "      <td id=\"T_a83da_row0_col10\" class=\"data row0 col10\" >0.00</td>\n",
       "      <td id=\"T_a83da_row0_col11\" class=\"data row0 col11\" >-0.01</td>\n",
       "      <td id=\"T_a83da_row0_col12\" class=\"data row0 col12\" >0.16</td>\n",
       "    </tr>\n",
       "    <tr>\n",
       "      <th id=\"T_a83da_level0_row1\" class=\"row_heading level0 row1\" >holiday</th>\n",
       "      <td id=\"T_a83da_row1_col0\" class=\"data row1 col0\" >0.03</td>\n",
       "      <td id=\"T_a83da_row1_col1\" class=\"data row1 col1\" >1.00</td>\n",
       "      <td id=\"T_a83da_row1_col2\" class=\"data row1 col2\" >-0.25</td>\n",
       "      <td id=\"T_a83da_row1_col3\" class=\"data row1 col3\" >-0.01</td>\n",
       "      <td id=\"T_a83da_row1_col4\" class=\"data row1 col4\" >0.00</td>\n",
       "      <td id=\"T_a83da_row1_col5\" class=\"data row1 col5\" >-0.01</td>\n",
       "      <td id=\"T_a83da_row1_col6\" class=\"data row1 col6\" >0.00</td>\n",
       "      <td id=\"T_a83da_row1_col7\" class=\"data row1 col7\" >0.01</td>\n",
       "      <td id=\"T_a83da_row1_col8\" class=\"data row1 col8\" >0.01</td>\n",
       "      <td id=\"T_a83da_row1_col9\" class=\"data row1 col9\" >0.00</td>\n",
       "      <td id=\"T_a83da_row1_col10\" class=\"data row1 col10\" >-0.02</td>\n",
       "      <td id=\"T_a83da_row1_col11\" class=\"data row1 col11\" >-0.00</td>\n",
       "      <td id=\"T_a83da_row1_col12\" class=\"data row1 col12\" >-0.01</td>\n",
       "    </tr>\n",
       "    <tr>\n",
       "      <th id=\"T_a83da_level0_row2\" class=\"row_heading level0 row2\" >workingday</th>\n",
       "      <td id=\"T_a83da_row2_col0\" class=\"data row2 col0\" >-0.01</td>\n",
       "      <td id=\"T_a83da_row2_col1\" class=\"data row2 col1\" >-0.25</td>\n",
       "      <td id=\"T_a83da_row2_col2\" class=\"data row2 col2\" >1.00</td>\n",
       "      <td id=\"T_a83da_row2_col3\" class=\"data row2 col3\" >0.03</td>\n",
       "      <td id=\"T_a83da_row2_col4\" class=\"data row2 col4\" >0.03</td>\n",
       "      <td id=\"T_a83da_row2_col5\" class=\"data row2 col5\" >0.02</td>\n",
       "      <td id=\"T_a83da_row2_col6\" class=\"data row2 col6\" >-0.01</td>\n",
       "      <td id=\"T_a83da_row2_col7\" class=\"data row2 col7\" >0.01</td>\n",
       "      <td id=\"T_a83da_row2_col8\" class=\"data row2 col8\" >-0.00</td>\n",
       "      <td id=\"T_a83da_row2_col9\" class=\"data row2 col9\" >-0.00</td>\n",
       "      <td id=\"T_a83da_row2_col10\" class=\"data row2 col10\" >0.01</td>\n",
       "      <td id=\"T_a83da_row2_col11\" class=\"data row2 col11\" >0.00</td>\n",
       "      <td id=\"T_a83da_row2_col12\" class=\"data row2 col12\" >0.01</td>\n",
       "    </tr>\n",
       "    <tr>\n",
       "      <th id=\"T_a83da_level0_row3\" class=\"row_heading level0 row3\" >weather</th>\n",
       "      <td id=\"T_a83da_row3_col0\" class=\"data row3 col0\" >0.01</td>\n",
       "      <td id=\"T_a83da_row3_col1\" class=\"data row3 col1\" >-0.01</td>\n",
       "      <td id=\"T_a83da_row3_col2\" class=\"data row3 col2\" >0.03</td>\n",
       "      <td id=\"T_a83da_row3_col3\" class=\"data row3 col3\" >1.00</td>\n",
       "      <td id=\"T_a83da_row3_col4\" class=\"data row3 col4\" >-0.06</td>\n",
       "      <td id=\"T_a83da_row3_col5\" class=\"data row3 col5\" >-0.06</td>\n",
       "      <td id=\"T_a83da_row3_col6\" class=\"data row3 col6\" >0.41</td>\n",
       "      <td id=\"T_a83da_row3_col7\" class=\"data row3 col7\" >0.01</td>\n",
       "      <td id=\"T_a83da_row3_col8\" class=\"data row3 col8\" >-0.01</td>\n",
       "      <td id=\"T_a83da_row3_col9\" class=\"data row3 col9\" >0.01</td>\n",
       "      <td id=\"T_a83da_row3_col10\" class=\"data row3 col10\" >-0.01</td>\n",
       "      <td id=\"T_a83da_row3_col11\" class=\"data row3 col11\" >-0.02</td>\n",
       "      <td id=\"T_a83da_row3_col12\" class=\"data row3 col12\" >-0.13</td>\n",
       "    </tr>\n",
       "    <tr>\n",
       "      <th id=\"T_a83da_level0_row4\" class=\"row_heading level0 row4\" >temp</th>\n",
       "      <td id=\"T_a83da_row4_col0\" class=\"data row4 col0\" >0.26</td>\n",
       "      <td id=\"T_a83da_row4_col1\" class=\"data row4 col1\" >0.00</td>\n",
       "      <td id=\"T_a83da_row4_col2\" class=\"data row4 col2\" >0.03</td>\n",
       "      <td id=\"T_a83da_row4_col3\" class=\"data row4 col3\" >-0.06</td>\n",
       "      <td id=\"T_a83da_row4_col4\" class=\"data row4 col4\" >1.00</td>\n",
       "      <td id=\"T_a83da_row4_col5\" class=\"data row4 col5\" >0.98</td>\n",
       "      <td id=\"T_a83da_row4_col6\" class=\"data row4 col6\" >-0.06</td>\n",
       "      <td id=\"T_a83da_row4_col7\" class=\"data row4 col7\" >-0.02</td>\n",
       "      <td id=\"T_a83da_row4_col8\" class=\"data row4 col8\" >0.06</td>\n",
       "      <td id=\"T_a83da_row4_col9\" class=\"data row4 col9\" >0.26</td>\n",
       "      <td id=\"T_a83da_row4_col10\" class=\"data row4 col10\" >0.02</td>\n",
       "      <td id=\"T_a83da_row4_col11\" class=\"data row4 col11\" >0.15</td>\n",
       "      <td id=\"T_a83da_row4_col12\" class=\"data row4 col12\" >0.39</td>\n",
       "    </tr>\n",
       "    <tr>\n",
       "      <th id=\"T_a83da_level0_row5\" class=\"row_heading level0 row5\" >atemp</th>\n",
       "      <td id=\"T_a83da_row5_col0\" class=\"data row5 col0\" >0.26</td>\n",
       "      <td id=\"T_a83da_row5_col1\" class=\"data row5 col1\" >-0.01</td>\n",
       "      <td id=\"T_a83da_row5_col2\" class=\"data row5 col2\" >0.02</td>\n",
       "      <td id=\"T_a83da_row5_col3\" class=\"data row5 col3\" >-0.06</td>\n",
       "      <td id=\"T_a83da_row5_col4\" class=\"data row5 col4\" >0.98</td>\n",
       "      <td id=\"T_a83da_row5_col5\" class=\"data row5 col5\" >1.00</td>\n",
       "      <td id=\"T_a83da_row5_col6\" class=\"data row5 col6\" >-0.04</td>\n",
       "      <td id=\"T_a83da_row5_col7\" class=\"data row5 col7\" >-0.06</td>\n",
       "      <td id=\"T_a83da_row5_col8\" class=\"data row5 col8\" >0.06</td>\n",
       "      <td id=\"T_a83da_row5_col9\" class=\"data row5 col9\" >0.26</td>\n",
       "      <td id=\"T_a83da_row5_col10\" class=\"data row5 col10\" >0.01</td>\n",
       "      <td id=\"T_a83da_row5_col11\" class=\"data row5 col11\" >0.14</td>\n",
       "      <td id=\"T_a83da_row5_col12\" class=\"data row5 col12\" >0.39</td>\n",
       "    </tr>\n",
       "    <tr>\n",
       "      <th id=\"T_a83da_level0_row6\" class=\"row_heading level0 row6\" >humidity</th>\n",
       "      <td id=\"T_a83da_row6_col0\" class=\"data row6 col0\" >0.19</td>\n",
       "      <td id=\"T_a83da_row6_col1\" class=\"data row6 col1\" >0.00</td>\n",
       "      <td id=\"T_a83da_row6_col2\" class=\"data row6 col2\" >-0.01</td>\n",
       "      <td id=\"T_a83da_row6_col3\" class=\"data row6 col3\" >0.41</td>\n",
       "      <td id=\"T_a83da_row6_col4\" class=\"data row6 col4\" >-0.06</td>\n",
       "      <td id=\"T_a83da_row6_col5\" class=\"data row6 col5\" >-0.04</td>\n",
       "      <td id=\"T_a83da_row6_col6\" class=\"data row6 col6\" >1.00</td>\n",
       "      <td id=\"T_a83da_row6_col7\" class=\"data row6 col7\" >-0.32</td>\n",
       "      <td id=\"T_a83da_row6_col8\" class=\"data row6 col8\" >-0.08</td>\n",
       "      <td id=\"T_a83da_row6_col9\" class=\"data row6 col9\" >0.20</td>\n",
       "      <td id=\"T_a83da_row6_col10\" class=\"data row6 col10\" >-0.01</td>\n",
       "      <td id=\"T_a83da_row6_col11\" class=\"data row6 col11\" >-0.28</td>\n",
       "      <td id=\"T_a83da_row6_col12\" class=\"data row6 col12\" >-0.32</td>\n",
       "    </tr>\n",
       "    <tr>\n",
       "      <th id=\"T_a83da_level0_row7\" class=\"row_heading level0 row7\" >windspeed</th>\n",
       "      <td id=\"T_a83da_row7_col0\" class=\"data row7 col0\" >-0.15</td>\n",
       "      <td id=\"T_a83da_row7_col1\" class=\"data row7 col1\" >0.01</td>\n",
       "      <td id=\"T_a83da_row7_col2\" class=\"data row7 col2\" >0.01</td>\n",
       "      <td id=\"T_a83da_row7_col3\" class=\"data row7 col3\" >0.01</td>\n",
       "      <td id=\"T_a83da_row7_col4\" class=\"data row7 col4\" >-0.02</td>\n",
       "      <td id=\"T_a83da_row7_col5\" class=\"data row7 col5\" >-0.06</td>\n",
       "      <td id=\"T_a83da_row7_col6\" class=\"data row7 col6\" >-0.32</td>\n",
       "      <td id=\"T_a83da_row7_col7\" class=\"data row7 col7\" >1.00</td>\n",
       "      <td id=\"T_a83da_row7_col8\" class=\"data row7 col8\" >-0.02</td>\n",
       "      <td id=\"T_a83da_row7_col9\" class=\"data row7 col9\" >-0.15</td>\n",
       "      <td id=\"T_a83da_row7_col10\" class=\"data row7 col10\" >0.04</td>\n",
       "      <td id=\"T_a83da_row7_col11\" class=\"data row7 col11\" >0.15</td>\n",
       "      <td id=\"T_a83da_row7_col12\" class=\"data row7 col12\" >0.10</td>\n",
       "    </tr>\n",
       "    <tr>\n",
       "      <th id=\"T_a83da_level0_row8\" class=\"row_heading level0 row8\" >year</th>\n",
       "      <td id=\"T_a83da_row8_col0\" class=\"data row8 col0\" >-0.00</td>\n",
       "      <td id=\"T_a83da_row8_col1\" class=\"data row8 col1\" >0.01</td>\n",
       "      <td id=\"T_a83da_row8_col2\" class=\"data row8 col2\" >-0.00</td>\n",
       "      <td id=\"T_a83da_row8_col3\" class=\"data row8 col3\" >-0.01</td>\n",
       "      <td id=\"T_a83da_row8_col4\" class=\"data row8 col4\" >0.06</td>\n",
       "      <td id=\"T_a83da_row8_col5\" class=\"data row8 col5\" >0.06</td>\n",
       "      <td id=\"T_a83da_row8_col6\" class=\"data row8 col6\" >-0.08</td>\n",
       "      <td id=\"T_a83da_row8_col7\" class=\"data row8 col7\" >-0.02</td>\n",
       "      <td id=\"T_a83da_row8_col8\" class=\"data row8 col8\" >1.00</td>\n",
       "      <td id=\"T_a83da_row8_col9\" class=\"data row8 col9\" >-0.00</td>\n",
       "      <td id=\"T_a83da_row8_col10\" class=\"data row8 col10\" >0.00</td>\n",
       "      <td id=\"T_a83da_row8_col11\" class=\"data row8 col11\" >-0.00</td>\n",
       "      <td id=\"T_a83da_row8_col12\" class=\"data row8 col12\" >0.26</td>\n",
       "    </tr>\n",
       "    <tr>\n",
       "      <th id=\"T_a83da_level0_row9\" class=\"row_heading level0 row9\" >month</th>\n",
       "      <td id=\"T_a83da_row9_col0\" class=\"data row9 col0\" >0.97</td>\n",
       "      <td id=\"T_a83da_row9_col1\" class=\"data row9 col1\" >0.00</td>\n",
       "      <td id=\"T_a83da_row9_col2\" class=\"data row9 col2\" >-0.00</td>\n",
       "      <td id=\"T_a83da_row9_col3\" class=\"data row9 col3\" >0.01</td>\n",
       "      <td id=\"T_a83da_row9_col4\" class=\"data row9 col4\" >0.26</td>\n",
       "      <td id=\"T_a83da_row9_col5\" class=\"data row9 col5\" >0.26</td>\n",
       "      <td id=\"T_a83da_row9_col6\" class=\"data row9 col6\" >0.20</td>\n",
       "      <td id=\"T_a83da_row9_col7\" class=\"data row9 col7\" >-0.15</td>\n",
       "      <td id=\"T_a83da_row9_col8\" class=\"data row9 col8\" >-0.00</td>\n",
       "      <td id=\"T_a83da_row9_col9\" class=\"data row9 col9\" >1.00</td>\n",
       "      <td id=\"T_a83da_row9_col10\" class=\"data row9 col10\" >0.00</td>\n",
       "      <td id=\"T_a83da_row9_col11\" class=\"data row9 col11\" >-0.01</td>\n",
       "      <td id=\"T_a83da_row9_col12\" class=\"data row9 col12\" >0.17</td>\n",
       "    </tr>\n",
       "    <tr>\n",
       "      <th id=\"T_a83da_level0_row10\" class=\"row_heading level0 row10\" >day</th>\n",
       "      <td id=\"T_a83da_row10_col0\" class=\"data row10 col0\" >0.00</td>\n",
       "      <td id=\"T_a83da_row10_col1\" class=\"data row10 col1\" >-0.02</td>\n",
       "      <td id=\"T_a83da_row10_col2\" class=\"data row10 col2\" >0.01</td>\n",
       "      <td id=\"T_a83da_row10_col3\" class=\"data row10 col3\" >-0.01</td>\n",
       "      <td id=\"T_a83da_row10_col4\" class=\"data row10 col4\" >0.02</td>\n",
       "      <td id=\"T_a83da_row10_col5\" class=\"data row10 col5\" >0.01</td>\n",
       "      <td id=\"T_a83da_row10_col6\" class=\"data row10 col6\" >-0.01</td>\n",
       "      <td id=\"T_a83da_row10_col7\" class=\"data row10 col7\" >0.04</td>\n",
       "      <td id=\"T_a83da_row10_col8\" class=\"data row10 col8\" >0.00</td>\n",
       "      <td id=\"T_a83da_row10_col9\" class=\"data row10 col9\" >0.00</td>\n",
       "      <td id=\"T_a83da_row10_col10\" class=\"data row10 col10\" >1.00</td>\n",
       "      <td id=\"T_a83da_row10_col11\" class=\"data row10 col11\" >0.00</td>\n",
       "      <td id=\"T_a83da_row10_col12\" class=\"data row10 col12\" >0.02</td>\n",
       "    </tr>\n",
       "    <tr>\n",
       "      <th id=\"T_a83da_level0_row11\" class=\"row_heading level0 row11\" >hour</th>\n",
       "      <td id=\"T_a83da_row11_col0\" class=\"data row11 col0\" >-0.01</td>\n",
       "      <td id=\"T_a83da_row11_col1\" class=\"data row11 col1\" >-0.00</td>\n",
       "      <td id=\"T_a83da_row11_col2\" class=\"data row11 col2\" >0.00</td>\n",
       "      <td id=\"T_a83da_row11_col3\" class=\"data row11 col3\" >-0.02</td>\n",
       "      <td id=\"T_a83da_row11_col4\" class=\"data row11 col4\" >0.15</td>\n",
       "      <td id=\"T_a83da_row11_col5\" class=\"data row11 col5\" >0.14</td>\n",
       "      <td id=\"T_a83da_row11_col6\" class=\"data row11 col6\" >-0.28</td>\n",
       "      <td id=\"T_a83da_row11_col7\" class=\"data row11 col7\" >0.15</td>\n",
       "      <td id=\"T_a83da_row11_col8\" class=\"data row11 col8\" >-0.00</td>\n",
       "      <td id=\"T_a83da_row11_col9\" class=\"data row11 col9\" >-0.01</td>\n",
       "      <td id=\"T_a83da_row11_col10\" class=\"data row11 col10\" >0.00</td>\n",
       "      <td id=\"T_a83da_row11_col11\" class=\"data row11 col11\" >1.00</td>\n",
       "      <td id=\"T_a83da_row11_col12\" class=\"data row11 col12\" >0.40</td>\n",
       "    </tr>\n",
       "    <tr>\n",
       "      <th id=\"T_a83da_level0_row12\" class=\"row_heading level0 row12\" >count</th>\n",
       "      <td id=\"T_a83da_row12_col0\" class=\"data row12 col0\" >0.16</td>\n",
       "      <td id=\"T_a83da_row12_col1\" class=\"data row12 col1\" >-0.01</td>\n",
       "      <td id=\"T_a83da_row12_col2\" class=\"data row12 col2\" >0.01</td>\n",
       "      <td id=\"T_a83da_row12_col3\" class=\"data row12 col3\" >-0.13</td>\n",
       "      <td id=\"T_a83da_row12_col4\" class=\"data row12 col4\" >0.39</td>\n",
       "      <td id=\"T_a83da_row12_col5\" class=\"data row12 col5\" >0.39</td>\n",
       "      <td id=\"T_a83da_row12_col6\" class=\"data row12 col6\" >-0.32</td>\n",
       "      <td id=\"T_a83da_row12_col7\" class=\"data row12 col7\" >0.10</td>\n",
       "      <td id=\"T_a83da_row12_col8\" class=\"data row12 col8\" >0.26</td>\n",
       "      <td id=\"T_a83da_row12_col9\" class=\"data row12 col9\" >0.17</td>\n",
       "      <td id=\"T_a83da_row12_col10\" class=\"data row12 col10\" >0.02</td>\n",
       "      <td id=\"T_a83da_row12_col11\" class=\"data row12 col11\" >0.40</td>\n",
       "      <td id=\"T_a83da_row12_col12\" class=\"data row12 col12\" >1.00</td>\n",
       "    </tr>\n",
       "  </tbody>\n",
       "</table>\n"
      ],
      "text/plain": [
       "<pandas.io.formats.style.Styler at 0x177726c10>"
      ]
     },
     "execution_count": 21,
     "metadata": {},
     "output_type": "execute_result"
    }
   ],
   "source": [
    "show = pd.concat((df[:train_df.shape[0]], train_df[['count']]), axis=1)\n",
    "show.corr().style.background_gradient(cmap='coolwarm').format(precision=2)"
   ]
  },
  {
   "cell_type": "code",
   "execution_count": 22,
   "metadata": {},
   "outputs": [],
   "source": [
    "# df = df.drop(['workingday', 'holiday'], axis=1)"
   ]
  },
  {
   "cell_type": "code",
   "execution_count": 23,
   "metadata": {},
   "outputs": [],
   "source": [
    "df['humidity'] = df['humidity'] / 100."
   ]
  },
  {
   "cell_type": "code",
   "execution_count": 24,
   "metadata": {},
   "outputs": [],
   "source": [
    "from sklearn.ensemble import RandomForestRegressor, GradientBoostingRegressor\n",
    "from sklearn.model_selection import train_test_split\n",
    "from sklearn.metrics import mean_squared_error"
   ]
  },
  {
   "cell_type": "code",
   "execution_count": 25,
   "metadata": {},
   "outputs": [
    {
     "data": {
      "text/plain": [
       "((2180, 12), (15199, 12))"
      ]
     },
     "execution_count": 25,
     "metadata": {},
     "output_type": "execute_result"
    }
   ],
   "source": [
    "df_wind_0 = df[df['windspeed'] == 0]\n",
    "df_wind_not_0 = df[df['windspeed'] != 0]\n",
    "df_wind_0.shape, df_wind_not_0.shape"
   ]
  },
  {
   "cell_type": "code",
   "execution_count": 26,
   "metadata": {},
   "outputs": [],
   "source": [
    "wind_X_train, wind_X_test, wind_y_train, wind_y_test = train_test_split(df_wind_not_0.drop(['windspeed', 'year'], axis=1), df_wind_not_0['windspeed'], test_size=0.2)"
   ]
  },
  {
   "cell_type": "code",
   "execution_count": 27,
   "metadata": {},
   "outputs": [
    {
     "data": {
      "text/html": [
       "<style>#sk-container-id-1 {color: black;}#sk-container-id-1 pre{padding: 0;}#sk-container-id-1 div.sk-toggleable {background-color: white;}#sk-container-id-1 label.sk-toggleable__label {cursor: pointer;display: block;width: 100%;margin-bottom: 0;padding: 0.3em;box-sizing: border-box;text-align: center;}#sk-container-id-1 label.sk-toggleable__label-arrow:before {content: \"▸\";float: left;margin-right: 0.25em;color: #696969;}#sk-container-id-1 label.sk-toggleable__label-arrow:hover:before {color: black;}#sk-container-id-1 div.sk-estimator:hover label.sk-toggleable__label-arrow:before {color: black;}#sk-container-id-1 div.sk-toggleable__content {max-height: 0;max-width: 0;overflow: hidden;text-align: left;background-color: #f0f8ff;}#sk-container-id-1 div.sk-toggleable__content pre {margin: 0.2em;color: black;border-radius: 0.25em;background-color: #f0f8ff;}#sk-container-id-1 input.sk-toggleable__control:checked~div.sk-toggleable__content {max-height: 200px;max-width: 100%;overflow: auto;}#sk-container-id-1 input.sk-toggleable__control:checked~label.sk-toggleable__label-arrow:before {content: \"▾\";}#sk-container-id-1 div.sk-estimator input.sk-toggleable__control:checked~label.sk-toggleable__label {background-color: #d4ebff;}#sk-container-id-1 div.sk-label input.sk-toggleable__control:checked~label.sk-toggleable__label {background-color: #d4ebff;}#sk-container-id-1 input.sk-hidden--visually {border: 0;clip: rect(1px 1px 1px 1px);clip: rect(1px, 1px, 1px, 1px);height: 1px;margin: -1px;overflow: hidden;padding: 0;position: absolute;width: 1px;}#sk-container-id-1 div.sk-estimator {font-family: monospace;background-color: #f0f8ff;border: 1px dotted black;border-radius: 0.25em;box-sizing: border-box;margin-bottom: 0.5em;}#sk-container-id-1 div.sk-estimator:hover {background-color: #d4ebff;}#sk-container-id-1 div.sk-parallel-item::after {content: \"\";width: 100%;border-bottom: 1px solid gray;flex-grow: 1;}#sk-container-id-1 div.sk-label:hover label.sk-toggleable__label {background-color: #d4ebff;}#sk-container-id-1 div.sk-serial::before {content: \"\";position: absolute;border-left: 1px solid gray;box-sizing: border-box;top: 0;bottom: 0;left: 50%;z-index: 0;}#sk-container-id-1 div.sk-serial {display: flex;flex-direction: column;align-items: center;background-color: white;padding-right: 0.2em;padding-left: 0.2em;position: relative;}#sk-container-id-1 div.sk-item {position: relative;z-index: 1;}#sk-container-id-1 div.sk-parallel {display: flex;align-items: stretch;justify-content: center;background-color: white;position: relative;}#sk-container-id-1 div.sk-item::before, #sk-container-id-1 div.sk-parallel-item::before {content: \"\";position: absolute;border-left: 1px solid gray;box-sizing: border-box;top: 0;bottom: 0;left: 50%;z-index: -1;}#sk-container-id-1 div.sk-parallel-item {display: flex;flex-direction: column;z-index: 1;position: relative;background-color: white;}#sk-container-id-1 div.sk-parallel-item:first-child::after {align-self: flex-end;width: 50%;}#sk-container-id-1 div.sk-parallel-item:last-child::after {align-self: flex-start;width: 50%;}#sk-container-id-1 div.sk-parallel-item:only-child::after {width: 0;}#sk-container-id-1 div.sk-dashed-wrapped {border: 1px dashed gray;margin: 0 0.4em 0.5em 0.4em;box-sizing: border-box;padding-bottom: 0.4em;background-color: white;}#sk-container-id-1 div.sk-label label {font-family: monospace;font-weight: bold;display: inline-block;line-height: 1.2em;}#sk-container-id-1 div.sk-label-container {text-align: center;}#sk-container-id-1 div.sk-container {/* jupyter's `normalize.less` sets `[hidden] { display: none; }` but bootstrap.min.css set `[hidden] { display: none !important; }` so we also need the `!important` here to be able to override the default hidden behavior on the sphinx rendered scikit-learn.org. See: https://github.com/scikit-learn/scikit-learn/issues/21755 */display: inline-block !important;position: relative;}#sk-container-id-1 div.sk-text-repr-fallback {display: none;}</style><div id=\"sk-container-id-1\" class=\"sk-top-container\"><div class=\"sk-text-repr-fallback\"><pre>RandomForestRegressor()</pre><b>In a Jupyter environment, please rerun this cell to show the HTML representation or trust the notebook. <br />On GitHub, the HTML representation is unable to render, please try loading this page with nbviewer.org.</b></div><div class=\"sk-container\" hidden><div class=\"sk-item\"><div class=\"sk-estimator sk-toggleable\"><input class=\"sk-toggleable__control sk-hidden--visually\" id=\"sk-estimator-id-1\" type=\"checkbox\" checked><label for=\"sk-estimator-id-1\" class=\"sk-toggleable__label sk-toggleable__label-arrow\">RandomForestRegressor</label><div class=\"sk-toggleable__content\"><pre>RandomForestRegressor()</pre></div></div></div></div></div>"
      ],
      "text/plain": [
       "RandomForestRegressor()"
      ]
     },
     "execution_count": 27,
     "metadata": {},
     "output_type": "execute_result"
    }
   ],
   "source": [
    "rfr = RandomForestRegressor()\n",
    "rfr.fit(wind_X_train, wind_y_train)"
   ]
  },
  {
   "cell_type": "code",
   "execution_count": 28,
   "metadata": {},
   "outputs": [
    {
     "data": {
      "text/plain": [
       "(21.824481585595063, 3.096569689642919)"
      ]
     },
     "execution_count": 28,
     "metadata": {},
     "output_type": "execute_result"
    }
   ],
   "source": [
    "train_pred = rfr.predict(wind_X_train)\n",
    "val_pred = rfr.predict(wind_X_test)\n",
    "mean_squared_error(val_pred, wind_y_test), mean_squared_error(train_pred, wind_y_train)"
   ]
  },
  {
   "cell_type": "code",
   "execution_count": 29,
   "metadata": {},
   "outputs": [],
   "source": [
    "fill_wind_speed_zero = rfr.predict(df_wind_0.drop(['windspeed', 'year'], axis=1))"
   ]
  },
  {
   "cell_type": "code",
   "execution_count": 30,
   "metadata": {},
   "outputs": [],
   "source": [
    "df.loc[df['windspeed']==0, 'windspeed'] = fill_wind_speed_zero"
   ]
  },
  {
   "cell_type": "code",
   "execution_count": 31,
   "metadata": {},
   "outputs": [
    {
     "name": "stdout",
     "output_type": "stream",
     "text": [
      "Empty DataFrame\n",
      "Columns: [season, holiday, workingday, weather, temp, atemp, humidity, windspeed, year, month, day, hour]\n",
      "Index: []\n"
     ]
    }
   ],
   "source": [
    "print(df[df['windspeed'] == 0])"
   ]
  },
  {
   "cell_type": "markdown",
   "metadata": {},
   "source": [
    "# Train"
   ]
  },
  {
   "cell_type": "code",
   "execution_count": 32,
   "metadata": {},
   "outputs": [],
   "source": [
    "train_data = df[:train_df.shape[0]]\n",
    "test_data = df[train_df.shape[0]:].reset_index().drop(['index'], axis=1)"
   ]
  },
  {
   "cell_type": "code",
   "execution_count": 33,
   "metadata": {},
   "outputs": [
    {
     "name": "stdout",
     "output_type": "stream",
     "text": [
      "<class 'pandas.core.frame.DataFrame'>\n",
      "RangeIndex: 10886 entries, 0 to 10885\n",
      "Data columns (total 12 columns):\n",
      " #   Column      Non-Null Count  Dtype  \n",
      "---  ------      --------------  -----  \n",
      " 0   season      10886 non-null  int64  \n",
      " 1   holiday     10886 non-null  int64  \n",
      " 2   workingday  10886 non-null  int64  \n",
      " 3   weather     10886 non-null  int64  \n",
      " 4   temp        10886 non-null  float64\n",
      " 5   atemp       10886 non-null  float64\n",
      " 6   humidity    10886 non-null  float64\n",
      " 7   windspeed   10886 non-null  float64\n",
      " 8   year        10886 non-null  int64  \n",
      " 9   month       10886 non-null  int64  \n",
      " 10  day         10886 non-null  int64  \n",
      " 11  hour        10886 non-null  int64  \n",
      "dtypes: float64(4), int64(8)\n",
      "memory usage: 1020.7 KB\n"
     ]
    }
   ],
   "source": [
    "train_data.info()"
   ]
  },
  {
   "cell_type": "markdown",
   "metadata": {},
   "source": [
    "# Outlier Removal"
   ]
  },
  {
   "cell_type": "code",
   "execution_count": 34,
   "metadata": {},
   "outputs": [],
   "source": [
    "train_data = pd.concat((train_data, train_df[['count']]), axis=1)"
   ]
  },
  {
   "cell_type": "code",
   "execution_count": 35,
   "metadata": {},
   "outputs": [],
   "source": [
    "c = 'humidity'\n",
    "continuous_columns = ['atemp', 'humidity', 'windspeed']\n",
    "for c in continuous_columns:\n",
    "    q1 = train_data[c].quantile(0.25)\n",
    "    q3 = train_data[c].quantile(0.75)\n",
    "    iqr = q3 - q1\n",
    "    low_thresh = q1 - iqr\n",
    "    high_thresh = q3 + iqr\n",
    "    to_remove = train_data[ (train_data[c] < low_thresh) | (train_data[c] > high_thresh) ].index\n",
    "    train_data.drop(to_remove, axis=0, inplace=True)"
   ]
  },
  {
   "cell_type": "markdown",
   "metadata": {},
   "source": [
    "# Train"
   ]
  },
  {
   "cell_type": "code",
   "execution_count": 36,
   "metadata": {},
   "outputs": [],
   "source": [
    "target = train_data['count']\n",
    "train_data = train_data.drop('count', axis=1)\n",
    "\n",
    "X_train, X_val, y_train, y_val = train_test_split(train_data, target, test_size = 0.2)\n",
    "log_y_train = np.log(y_train + 1)"
   ]
  },
  {
   "cell_type": "code",
   "execution_count": 37,
   "metadata": {},
   "outputs": [
    {
     "data": {
      "text/html": [
       "<style>#sk-container-id-2 {color: black;}#sk-container-id-2 pre{padding: 0;}#sk-container-id-2 div.sk-toggleable {background-color: white;}#sk-container-id-2 label.sk-toggleable__label {cursor: pointer;display: block;width: 100%;margin-bottom: 0;padding: 0.3em;box-sizing: border-box;text-align: center;}#sk-container-id-2 label.sk-toggleable__label-arrow:before {content: \"▸\";float: left;margin-right: 0.25em;color: #696969;}#sk-container-id-2 label.sk-toggleable__label-arrow:hover:before {color: black;}#sk-container-id-2 div.sk-estimator:hover label.sk-toggleable__label-arrow:before {color: black;}#sk-container-id-2 div.sk-toggleable__content {max-height: 0;max-width: 0;overflow: hidden;text-align: left;background-color: #f0f8ff;}#sk-container-id-2 div.sk-toggleable__content pre {margin: 0.2em;color: black;border-radius: 0.25em;background-color: #f0f8ff;}#sk-container-id-2 input.sk-toggleable__control:checked~div.sk-toggleable__content {max-height: 200px;max-width: 100%;overflow: auto;}#sk-container-id-2 input.sk-toggleable__control:checked~label.sk-toggleable__label-arrow:before {content: \"▾\";}#sk-container-id-2 div.sk-estimator input.sk-toggleable__control:checked~label.sk-toggleable__label {background-color: #d4ebff;}#sk-container-id-2 div.sk-label input.sk-toggleable__control:checked~label.sk-toggleable__label {background-color: #d4ebff;}#sk-container-id-2 input.sk-hidden--visually {border: 0;clip: rect(1px 1px 1px 1px);clip: rect(1px, 1px, 1px, 1px);height: 1px;margin: -1px;overflow: hidden;padding: 0;position: absolute;width: 1px;}#sk-container-id-2 div.sk-estimator {font-family: monospace;background-color: #f0f8ff;border: 1px dotted black;border-radius: 0.25em;box-sizing: border-box;margin-bottom: 0.5em;}#sk-container-id-2 div.sk-estimator:hover {background-color: #d4ebff;}#sk-container-id-2 div.sk-parallel-item::after {content: \"\";width: 100%;border-bottom: 1px solid gray;flex-grow: 1;}#sk-container-id-2 div.sk-label:hover label.sk-toggleable__label {background-color: #d4ebff;}#sk-container-id-2 div.sk-serial::before {content: \"\";position: absolute;border-left: 1px solid gray;box-sizing: border-box;top: 0;bottom: 0;left: 50%;z-index: 0;}#sk-container-id-2 div.sk-serial {display: flex;flex-direction: column;align-items: center;background-color: white;padding-right: 0.2em;padding-left: 0.2em;position: relative;}#sk-container-id-2 div.sk-item {position: relative;z-index: 1;}#sk-container-id-2 div.sk-parallel {display: flex;align-items: stretch;justify-content: center;background-color: white;position: relative;}#sk-container-id-2 div.sk-item::before, #sk-container-id-2 div.sk-parallel-item::before {content: \"\";position: absolute;border-left: 1px solid gray;box-sizing: border-box;top: 0;bottom: 0;left: 50%;z-index: -1;}#sk-container-id-2 div.sk-parallel-item {display: flex;flex-direction: column;z-index: 1;position: relative;background-color: white;}#sk-container-id-2 div.sk-parallel-item:first-child::after {align-self: flex-end;width: 50%;}#sk-container-id-2 div.sk-parallel-item:last-child::after {align-self: flex-start;width: 50%;}#sk-container-id-2 div.sk-parallel-item:only-child::after {width: 0;}#sk-container-id-2 div.sk-dashed-wrapped {border: 1px dashed gray;margin: 0 0.4em 0.5em 0.4em;box-sizing: border-box;padding-bottom: 0.4em;background-color: white;}#sk-container-id-2 div.sk-label label {font-family: monospace;font-weight: bold;display: inline-block;line-height: 1.2em;}#sk-container-id-2 div.sk-label-container {text-align: center;}#sk-container-id-2 div.sk-container {/* jupyter's `normalize.less` sets `[hidden] { display: none; }` but bootstrap.min.css set `[hidden] { display: none !important; }` so we also need the `!important` here to be able to override the default hidden behavior on the sphinx rendered scikit-learn.org. See: https://github.com/scikit-learn/scikit-learn/issues/21755 */display: inline-block !important;position: relative;}#sk-container-id-2 div.sk-text-repr-fallback {display: none;}</style><div id=\"sk-container-id-2\" class=\"sk-top-container\"><div class=\"sk-text-repr-fallback\"><pre>GradientBoostingRegressor(learning_rate=0.01, max_depth=7, min_samples_split=3,\n",
       "                          n_estimators=2000, subsample=0.8)</pre><b>In a Jupyter environment, please rerun this cell to show the HTML representation or trust the notebook. <br />On GitHub, the HTML representation is unable to render, please try loading this page with nbviewer.org.</b></div><div class=\"sk-container\" hidden><div class=\"sk-item\"><div class=\"sk-estimator sk-toggleable\"><input class=\"sk-toggleable__control sk-hidden--visually\" id=\"sk-estimator-id-2\" type=\"checkbox\" checked><label for=\"sk-estimator-id-2\" class=\"sk-toggleable__label sk-toggleable__label-arrow\">GradientBoostingRegressor</label><div class=\"sk-toggleable__content\"><pre>GradientBoostingRegressor(learning_rate=0.01, max_depth=7, min_samples_split=3,\n",
       "                          n_estimators=2000, subsample=0.8)</pre></div></div></div></div></div>"
      ],
      "text/plain": [
       "GradientBoostingRegressor(learning_rate=0.01, max_depth=7, min_samples_split=3,\n",
       "                          n_estimators=2000, subsample=0.8)"
      ]
     },
     "execution_count": 37,
     "metadata": {},
     "output_type": "execute_result"
    }
   ],
   "source": [
    "gbr = GradientBoostingRegressor(\n",
    "    n_estimators = 2000,\n",
    "    learning_rate = 0.01,\n",
    "    max_depth = 7,\n",
    "    min_samples_split = 3,\n",
    "    subsample = 0.8\n",
    ")\n",
    "gbr.fit(X_train, log_y_train)"
   ]
  },
  {
   "cell_type": "code",
   "execution_count": 38,
   "metadata": {},
   "outputs": [],
   "source": [
    "train_pred = gbr.predict(X_train)\n",
    "val_pred = gbr.predict(X_val)"
   ]
  },
  {
   "cell_type": "code",
   "execution_count": 39,
   "metadata": {},
   "outputs": [],
   "source": [
    "train_pred = (np.exp(train_pred) - 1).astype(int)\n",
    "val_pred = (np.exp(val_pred) - 1).astype(int)"
   ]
  },
  {
   "cell_type": "code",
   "execution_count": 40,
   "metadata": {},
   "outputs": [
    {
     "data": {
      "text/plain": [
       "(0.29757238190394053, 0.126981342927578)"
      ]
     },
     "execution_count": 40,
     "metadata": {},
     "output_type": "execute_result"
    }
   ],
   "source": [
    "from sklearn.metrics import mean_squared_log_error\n",
    "np.sqrt(mean_squared_log_error(val_pred, y_val)), np.sqrt(mean_squared_log_error(train_pred, y_train))"
   ]
  },
  {
   "cell_type": "code",
   "execution_count": 42,
   "metadata": {},
   "outputs": [],
   "source": [
    "pred = gbr.predict(test_data)\n",
    "pred = (np.exp(pred) - 1).astype(int)"
   ]
  },
  {
   "cell_type": "code",
   "execution_count": 47,
   "metadata": {},
   "outputs": [],
   "source": [
    "submit = pd.DataFrame({'datetime': test_df['datetime'],\n",
    "                      'count': pred})"
   ]
  },
  {
   "cell_type": "code",
   "execution_count": 50,
   "metadata": {},
   "outputs": [],
   "source": [
    "submit.to_csv('outputs/full.csv', index=False)"
   ]
  },
  {
   "cell_type": "code",
   "execution_count": null,
   "metadata": {},
   "outputs": [],
   "source": []
  }
 ],
 "metadata": {
  "kernelspec": {
   "display_name": "Python 3 (ipykernel)",
   "language": "python",
   "name": "python3"
  },
  "language_info": {
   "codemirror_mode": {
    "name": "ipython",
    "version": 3
   },
   "file_extension": ".py",
   "mimetype": "text/x-python",
   "name": "python",
   "nbconvert_exporter": "python",
   "pygments_lexer": "ipython3",
   "version": "3.9.0"
  }
 },
 "nbformat": 4,
 "nbformat_minor": 1
}